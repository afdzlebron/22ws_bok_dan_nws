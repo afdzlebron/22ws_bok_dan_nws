{
 "cells": [
  {
   "cell_type": "markdown",
   "metadata": {},
   "source": [
    "<font face=\"Times New Roman\" size=\"3\">\n",
    "<hr style=\"width:100%;height:2px;color:black\">\n",
    "<div style=\"width:100%\">\n",
    "    <div style=\"float:left;width:50%\">Albert-Ludwigs-Universität Freiburg</div>\n",
    "    <div style=\"float:left;width:50%;text-align:right\">Wintersemester 2022/23</div> \n",
    "</div>\n",
    "<div style=\"clear:both;text-align:center\">\n",
    "    <h1 style=\"margin-top:20px;padding:0px\">Datenanalyse für Naturwissenschaftler*Innen</h1>\n",
    "    <h2 style=\"margin:5px;padding:0px\">Statistische Methoden in Theorie und Praxis</h2>\n",
    "    Vorlesung: Dr. Andrea Knue<br />\n",
    "    Übungsleitung: Dr. Constantin Heidegger<br />\n",
    "    <h1 style=\"margin:10px;padding:0px\">Übung 12 (Extra) </h1>\n",
    "    Ausgabe: 27. Januar 2023 10:00 Uhr, Abgabe: 03. Februar 2023 bis 10:00 Uhr via Ilias\n",
    "</div>\n",
    "<hr style=\"font-family:width:100%;height:2px;color:black\">\n",
    "</font>"
   ]
  },
  {
   "cell_type": "markdown",
   "metadata": {},
   "source": [
    "<font face=\"Times New Roman\" size=3>\n",
    "    <h3 style=\"margin:0px\">Aufgabe 1: Pearson'scher $\\chi^2$-Test (12P)</h3>\n",
    "</font>"
   ]
  },
  {
   "cell_type": "markdown",
   "metadata": {},
   "source": [
    "Im Folgenden wollen wir uns noch einmal den Pearson'schen $\\chi^2$-Test anschauen. In dieser Aufgabe wollen wir prüfen, ob ein Zufallszahlengenerator eine Gleichverteilung erzeugt oder nicht. Unsere Nullhypothese ist, dass die erzeugte Funktion eine Gleichverteilung ist."
   ]
  },
  {
   "cell_type": "markdown",
   "metadata": {},
   "source": [
    "Folgen Sie den Schritten in der Aufgabenstellung. Erklärungen können Sie ebenfalls in die gegebenen Boxen schreiben."
   ]
  },
  {
   "cell_type": "code",
   "execution_count": 1,
   "metadata": {},
   "outputs": [],
   "source": [
    "import matplotlib.pyplot as plt\n",
    "import numpy as np\n",
    "import scipy.stats as stat"
   ]
  },
  {
   "cell_type": "markdown",
   "metadata": {},
   "source": [
    "<font face=\"Times New Roman\" size=4>\n",
    "a) Zufallszahlgenerator (1P)\n",
    "</font>"
   ]
  },
  {
   "cell_type": "markdown",
   "metadata": {},
   "source": [
    "Wir wollen wieder den allgemeinen linear-kongruenten Zufallszahlengenerator aus Blatt 6 studieren. Dazu können Sie Ihre Implementation von Blatt 6 wiederverwenden und in das folgende Feld einfuügen."
   ]
  },
  {
   "cell_type": "code",
   "execution_count": 2,
   "metadata": {},
   "outputs": [],
   "source": [
    "# MM-Approach\n",
    "def ALGG(a:int, c:int, m:int, I0:int, N:int) -> list[int]:\n",
    "    I = [0] * N\n",
    "    I[0] = I0\n",
    "    for i in range(1, N):\n",
    "        I[i] = ((I[i - 1] * a)+c) % m\n",
    "    return I\n"
   ]
  },
  {
   "cell_type": "code",
   "execution_count": null,
   "metadata": {},
   "outputs": [],
   "source": [
    "# ML-Alternative\n",
    "# def ALCG(a:int, c:int, m:int, I0:int, N:int) -> list[int]:\n",
    "#     x = []\n",
    "#     x.append(I0)\n",
    "#     for i in range(0, N):\n",
    "#         alt = x[i] \n",
    "#         neu = (a*alt + c) % m # % ist der Modulo-Operator!\n",
    "#         x.append(neu)\n",
    "#     return x"
   ]
  },
  {
   "cell_type": "markdown",
   "metadata": {},
   "source": [
    "<font face=\"Times New Roman\" size=4>\n",
    "b) Erzeugung der Zufallszahlen (3P)\n",
    "</font>"
   ]
  },
  {
   "cell_type": "markdown",
   "metadata": {},
   "source": [
    "Setzen Sie nun die folgenden Parameter ein: `a=49345`, `c=5`, `m=649423` und `I0=3`, und erzeugen Sie damit 5000 Zufallzahlen zwischen 0 und 1. Auch diesen Schritt (die Umwandlung in Zahlen zwischen 0 und 1) haben wir für Blatt 6 schon implementiert. Zeichnen Sie diese Zufallszahlen in ein Histogramm mit 100 Bins. Lassen Sie sich die Bineinträge von der Funktion `plt.hist` zurückgeben und beschriften Sie die Achsen des Histogramms entsprechend. Die zurückgegebenen Bineinträge sind unsere $n_i^D$. "
   ]
  },
  {
   "cell_type": "code",
   "execution_count": 4,
   "metadata": {},
   "outputs": [
    {
     "data": {
      "image/png": "[encoded data removed]",
      "text/plain": [
       "<Figure size 432x288 with 1 Axes>"
      ]
     },
     "metadata": {
      "needs_background": "light"
     },
     "output_type": "display_data"
    }
   ],
   "source": [
    "#print(\"ALGG: \", ALGG(49345, 5, 649423, 3, 5000))\n",
    "\n",
    "def histo(a, c, m, I0, N):\n",
    "    numbers = ALGG(a, c, m, I0, N)\n",
    "    x = np.array(numbers)/m  \n",
    "    #plt.hist(x, bins=100)\n",
    "    \n",
    "    #MM approach\n",
    "    data = list()\n",
    "    for i in ALGG(a, c, m, I0, N): \n",
    "        data.append(i/m)\n",
    "    bins = plt.hist(data, bins=100)\n",
    "\n",
    "    #print(f\"vbins: {bins}\")\n",
    "    plt.xlabel(\"$Zahlen$\")\n",
    "    plt.ylabel(\"$N_{i}$\")\n",
    "    plt.minorticks_on()\n",
    "    plt.show\n",
    "\n",
    "histo(49345, 5, 649423, 3, 5000)"
   ]
  },
  {
   "cell_type": "markdown",
   "metadata": {},
   "source": [
    "<font face=\"Times New Roman\" size=4>\n",
    "c) Freiheitsgrade (1P)\n",
    "</font>"
   ]
  },
  {
   "cell_type": "markdown",
   "metadata": {},
   "source": [
    "Überlegen Sie sich nun, wieviele Einträge $n_i^M$ Sie pro Bin erwarten. Wieviele Freiheitsgrade $n_F$ haben wir?"
   ]
  },
  {
   "cell_type": "code",
   "execution_count": null,
   "metadata": {},
   "outputs": [],
   "source": []
  },
  {
   "cell_type": "markdown",
   "metadata": {},
   "source": [
    "<font face=\"Times New Roman\" size=4>\n",
    "d) Berechnung des Pearson'schen $\\chi^2$ (1P)\n",
    "</font>"
   ]
  },
  {
   "cell_type": "markdown",
   "metadata": {},
   "source": [
    "Schreiben Sie nun eine Funktion `CalcChi2`, welche das Pearson'sche $\\chi^2$ berechnet und zurückgibt."
   ]
  },
  {
   "cell_type": "code",
   "execution_count": null,
   "metadata": {},
   "outputs": [],
   "source": [
    "def CalcChi2(observed, expected):\n",
    "    chi2 = np.sum((observed - expected)**2 / expected)\n",
    "    return chi2\n"
   ]
  },
  {
   "cell_type": "markdown",
   "metadata": {},
   "source": [
    "<font face=\"Times New Roman\" size=4>\n",
    "e) Diskussion (2P)\n",
    "</font>"
   ]
  },
  {
   "cell_type": "markdown",
   "metadata": {},
   "source": [
    "Welches $\\chi^2$ und welche Varianz erwartet man bei dieser Anzahl von Freiheitsgraden? Liegt der $\\chi^2$-Wert Ihrer Stichprobe nahe dem erwarteten Wert und ist mit einer Gleichverteilung verträglich? Schreiben Sie Ihre Antwort ins folgende Feld."
   ]
  },
  {
   "cell_type": "code",
   "execution_count": null,
   "metadata": {},
   "outputs": [],
   "source": []
  },
  {
   "cell_type": "markdown",
   "metadata": {},
   "source": [
    "<font face=\"Times New Roman\" size=4>\n",
    "f) Wahrscheinlichkeitsberechnung (1P)\n",
    "</font>"
   ]
  },
  {
   "cell_type": "markdown",
   "metadata": {},
   "source": [
    "Berechnen Sie nun die Wahrscheinlichkeit, einen Wert $\\chi^2 \\geq \\chi^2$ zu bekommen. Dazu koennen Sie das `chi2`-Modul von `scipy.stats` und der dort implementierten Kumulativverteilung verwenden. Schauen Sie sich dazu diese Dokumentation an: https://docs.scipy.org/doc/scipy/reference/generated/scipy.stats.chi2.html ."
   ]
  },
  {
   "cell_type": "code",
   "execution_count": null,
   "metadata": {},
   "outputs": [],
   "source": [
    "def CalcPValue(chi2_observed, df):\n",
    "    p_value = stat.chi2.sf(chi2_observed, df)\n",
    "    return p_value\n"
   ]
  },
  {
   "cell_type": "markdown",
   "metadata": {},
   "source": [
    "<font face=\"Times New Roman\" size=4>\n",
    "g) Visualisierung (3P)\n",
    "</font>"
   ]
  },
  {
   "cell_type": "markdown",
   "metadata": {},
   "source": [
    "Wie in der Vorlesung besprochen sollten man sich falls moeglich auch immer die berechneten Werte visualisieren. Zeichnen Sie nun die $\\chi^2$-Verteilung fuer Ihre Anzahl von Freiheitsgraden. Eine einfache Moeglichkeit finden Sie in der oben gegebenen Dokumentation. Zeichnen Sie zusaetzlich Ihr Stichproben-$\\chi^2$ als vertikale Linie ein (z.B. mit plt.axvline) und beschriften Sie alle Achsen."
   ]
  },
  {
   "cell_type": "code",
   "execution_count": null,
   "metadata": {},
   "outputs": [],
   "source": [
    "def PlotChi2Distribution(df, chi2_observed):\n",
    "    x = np.linspace(0, stat.chi2.ppf(0.999, df), 1000)\n",
    "    plt.plot(x, stat.chi2.pdf(x, df), label='$\\chi^2$-Verteilung')\n",
    "    plt.axvline(chi2_observed, color='red', label='Stichproben-$\\chi^2$')\n",
    "    plt.xlabel('$\\chi^2$')\n",
    "    plt.ylabel('Wahrscheinlichkeit')\n",
    "    plt.legend()\n",
    "    plt.show()"
   ]
  }
 ],
 "metadata": {
  "kernelspec": {
   "display_name": "Python 3",
   "language": "python",
   "name": "python3"
  },
  "language_info": {
   "codemirror_mode": {
    "name": "ipython",
    "version": 3
   },
   "file_extension": ".py",
   "mimetype": "text/x-python",
   "name": "python",
   "nbconvert_exporter": "python",
   "pygments_lexer": "ipython3",
   "version": "3.10.9"
  },
  "vscode": {
   "interpreter": {
    "hash": "b460384b52104c1e5b9cf54bee46a255d22b2bef338f75ac4ad5d48196028d3c"
   }
  }
 },
 "nbformat": 4,
 "nbformat_minor": 4
}
