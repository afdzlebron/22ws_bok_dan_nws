{
 "cells": [
  {
   "cell_type": "markdown",
   "metadata": {},
   "source": [
    "<font face=\"Times New Roman\" size=\"3\">\n",
    "<hr style=\"width:100%;height:2px;color:black\">\n",
    "<div style=\"width:100%\">\n",
    "    <div style=\"float:left;width:50%\">Albert-Ludwigs-Universität Freiburg</div>\n",
    "    <div style=\"float:left;width:50%;text-align:right\">Wintersemester 2022/23</div> \n",
    "</div>\n",
    "<div style=\"clear:both;text-align:center\">\n",
    "    <h1 style=\"margin-top:20px;padding:0px\">Datenanalyse für Naturwissenschaftler*Innen</h1>\n",
    "    <h2 style=\"margin:5px;padding:0px\">Statistische Methoden in Theorie und Praxis</h2>\n",
    "    Vorlesung: Dr. Andrea Knue<br />\n",
    "    Übungsleitung: Dr. Constantin Heidegger<br />\n",
    "    <h1 style=\"margin:10px;padding:0px\">Musterlösung 7</h1>\n",
    "    Ausgabe: 2. Dezember 2022 10:00 Uhr, Abgabe: 9. Dezember 2022 bis 10:00 Uhr via Ilias\n",
    "</div>\n",
    "<hr style=\"font-family:width:100%;height:2px;color:black\">\n",
    "</font>"
   ]
  },
  {
   "cell_type": "markdown",
   "metadata": {},
   "source": [
    "<font face=\"Times New Roman\" size=3>\n",
    "    <h3 style=\"margin:0px\">Aufgabe 3: Monte Carlo Simulation (10P)</h3>\n",
    "</font>"
   ]
  },
  {
   "cell_type": "markdown",
   "metadata": {},
   "source": [
    "In der Vorlesung haben wir so-genannte Monte Carlo (MC) Simulationen kennengelernt. Diese wollen wir in dieser Aufgabe näher untersuchen indem wir eine eigene MC Simulation entwerfen."
   ]
  },
  {
   "cell_type": "markdown",
   "metadata": {},
   "source": [
    "<font face=\"Times New Roman\" size=4>\n",
    "a) Zufallsgenerator (1P)\n",
    "</font>"
   ]
  },
  {
   "cell_type": "markdown",
   "metadata": {},
   "source": [
    "Wir betrachten zunächst die Funktion `ran0(seed)`, die für ein gewisses Seed `seed` bei jedem Aufruf eine neue Zufallszahl generiert. Bearbeiten Sie diese Funktion, sodass Sie zwei Parameter `maximum` and `minimum` nehmen um den Bereich der generierten Zahlen dadurch definieren. Geben Sie dann ein paar Zufallszahlen in verschiedenen Bereichen aus, um Ihre Änderungen zu testen."
   ]
  },
  {
   "cell_type": "code",
   "execution_count": 1,
   "metadata": {},
   "outputs": [],
   "source": [
    "def ran0(seed, minimum=0, maximum=1):\n",
    "    m = 2**31-1\n",
    "    a = 7**5\n",
    "    c = 0\n",
    "    while True:\n",
    "        seed = (a * seed + c) % m\n",
    "        yield seed/(m+1.)"
   ]
  },
  {
   "cell_type": "markdown",
   "metadata": {},
   "source": [
    "_Ein bisschen Python Erklärung:_ die Funktion `ran0` gibt einen so-genannten `Generator` zurück, weswegen sie anstelle des Befehls `return` den Befehl `yield` verwendet. Ein Generator ist praktisch ein \"iterable\" (= ein Objekt, über das man iterieren kann, also z.B. eine Liste von Elementen wie `mylist` in `for x in mylist`), das aber nur einmal iteriert werden kann. Wofür ist das gut? Performance. Und Flexibilität. In unserem Fall sehen wir dass `ran0` einen infinite loop enthält (`while True:`), also eine Schleife die aufgrund der Schleifenbedingung nie aufhören würde. In jeder Iteration gibt der `yield` Befehl eine neue Zufallszahl zurück, die außerhalb der Funktion via `next(x)` extrahiert werden kann, wobei `x` der Pointer zum Generator ist, also `x=ran0(...)`. D.h. außerhalb muss man eine Schleife machen, die eine fixe Anzahl Iterationen durchläuft (entsprechend der Anzahl Zufallszahlen, di eman haben möchte) und dann pro Iteration eine neue Zufallszahl vom Generator extrahiert. Bemerke, dass nichts davon funktionieren würde, wenn wir `return` statt `yield` verwenden würden. Dann müsste `ran0` eine Liste mit einer vorher festgelegten Anzahl Elemente befüllen und alle Zufallszahlen im Speicher behalten, selbst wenn sie später nicht verwendet werden - etwas, was man vermeiden möchte wenn man es mit sehr sehr viel Zufallszahlen zu tun hat (was üblicherweise in der Physik der Fall ist)."
   ]
  },
  {
   "cell_type": "code",
   "execution_count": 2,
   "metadata": {},
   "outputs": [],
   "source": [
    "def ran0(seed, minimum=0, maximum=1):\n",
    "    m = 2**31-1\n",
    "    a = 7**5\n",
    "    c = 0\n",
    "    while True:\n",
    "        seed = (a * seed + c) % m\n",
    "        yield seed/(m+1.)*(maximum-minimum)+minimum"
   ]
  },
  {
   "cell_type": "code",
   "execution_count": 3,
   "metadata": {},
   "outputs": [
    {
     "name": "stdout",
     "output_type": "stream",
     "text": [
      "0.6621772171929479\n",
      "0.21249454421922565\n",
      "0.3958063554018736\n",
      "0.31741833686828613\n",
      "0.8499902291223407\n",
      "0.785787511151284\n",
      "0.7307060691528022\n",
      "0.9769099694676697\n",
      "0.9258644883520901\n",
      "0.004462979733943939\n"
     ]
    }
   ],
   "source": [
    "# test: generate 10 random numbers between 0 and 1\n",
    "x = ran0(1234567) \n",
    "for i in range(10):\n",
    "    print(next(x))"
   ]
  },
  {
   "cell_type": "code",
   "execution_count": 4,
   "metadata": {},
   "outputs": [
    {
     "name": "stdout",
     "output_type": "stream",
     "text": [
      "0.32435443438589573\n",
      "-0.5750109115615487\n",
      "-0.20838728919625282\n",
      "-0.36516332626342773\n",
      "0.6999804582446814\n",
      "0.571575022302568\n",
      "0.46141213830560446\n",
      "0.9538199389353395\n",
      "0.8517289767041802\n",
      "-0.9910740405321121\n"
     ]
    }
   ],
   "source": [
    "# test: generate 10 random numbers between -1 and 1\n",
    "x = ran0(1234567,-1,1) \n",
    "for i in range(10):\n",
    "    print(next(x))"
   ]
  },
  {
   "cell_type": "markdown",
   "metadata": {},
   "source": [
    "<font face=\"Times New Roman\" size=4>\n",
    "b) Darstellung (1P)\n",
    "</font>"
   ]
  },
  {
   "cell_type": "markdown",
   "metadata": {},
   "source": [
    "Die Qualität eines Zufallszahlgenerators kann validiert werden durch die Darstellung der Frequenz der generierten Zufallszahlen in einem gegebenen Intervall mit gleichmäßigem Binning. Erstellen Sie zwei Diagramme, eines für 100 und eines für 10000 Zufallszahlen. Verwenden Sie 10 Bins im Intervall $[0,1]$. Die Anzahl Einträge sollte die gleiche sein für alle Bins unter Berücksichtigung der statistischen Fehler."
   ]
  },
  {
   "cell_type": "code",
   "execution_count": 11,
   "metadata": {},
   "outputs": [
    {
     "data": {
      "image/png": "[encoded data removed]",
      "text/plain": [
       "<Figure size 432x288 with 1 Axes>"
      ]
     },
     "metadata": {
      "needs_background": "light"
     },
     "output_type": "display_data"
    },
    {
     "data": {
      "image/png": "[encoded data removed]",
      "text/plain": [
       "<Figure size 432x288 with 1 Axes>"
      ]
     },
     "metadata": {
      "needs_background": "light"
     },
     "output_type": "display_data"
    }
   ],
   "source": [
    "import numpy as np\n",
    "import matplotlib.pyplot as plt\n",
    "\n",
    "def plotRan0(n):\n",
    "    x = ran0(1234567)\n",
    "    nparray = np.empty(n)\n",
    "    for i in range(n): \n",
    "        nparray[i] = next(x)\n",
    "    plt.hist(nparray, 10, (0, 1), label=f\"N={n}\")\n",
    "    plt.xlabel(\"Zufallszahl\")\n",
    "    plt.ylabel(\"Anzahl\")\n",
    "    plt.legend()\n",
    "    plt.show()\n",
    "    \n",
    "plotRan0(100)\n",
    "plotRan0(10000)"
   ]
  },
  {
   "cell_type": "markdown",
   "metadata": {},
   "source": [
    "<font face=\"Times New Roman\" size=4>\n",
    "c) Transformationsmethode (4P)\n",
    "</font>"
   ]
  },
  {
   "cell_type": "markdown",
   "metadata": {},
   "source": [
    "Generieren Sie nun 1000 Zufallszahlen um mit der Transformationsmethode die Funktion $f(\\theta)=1+\\cos(\\theta)+\\cos(\\theta)^2$ zu simulieren und befüllen Sie dann ein Histogramm für $x=\\cos(\\theta)$ mit 20 Bins im Intervall $[-1,1]$. Zum Vergleich, plotten Sie auch die eigentliche Funktion (diese müssen Sie ggf. zu Ihrem Histogramm norieren).\n",
    "\n",
    "_Hinweis:_ Falls Sie das Integral nicht mit Python lösen möchten, dürfen Sie das Integral auch per Hand durchführen.\n",
    "\n",
    "_Hinweis:_ Um eine Python-Funktion zu integrieren, verwenden Sie am besten die Funktion `integrate.quad` aus der Bibliothek `scipy`, https://docs.scipy.org/doc/scipy/reference/generated/scipy.integrate.quad.html.\n",
    "\n",
    "_Hinweis:_ Sie können die Inverse der Funktion auf die folgende Art und Weise via der Bibliothek `sympy` erstellen, die die Möglichkeit zu symbolischen Berechnungen bietet (z.B. können Sie damit eine Funktion integrieren ohne Integrationsgrenzen geben zu müssen):"
   ]
  },
  {
   "cell_type": "code",
   "execution_count": 6,
   "metadata": {},
   "outputs": [],
   "source": [
    "import sympy as sy\n",
    "x,y,z = sy.symbols(\"x y z\", positive=True) ## define variables within sympy\n",
    "f     = 1+z+z**2                           ## define the function using z = cos(theta)\n",
    "cdf   = sy.integrate(f, (z, -1, x))        ## symbolic integration of f to get the CDF\n",
    "tot   = sy.simplify(cdf.subs(x, 1))        ## integral of f from -1 to 1\n",
    "cdf   = cdf/tot                            ## normalization of CDF\n",
    "ppf   = sy.simplify(sy.solve(cdf-y,x)[2])  ## the PPF, i.e. the inverse function\n",
    "func  = sy.lambdify(y,ppf)                 ## convert it to a python function\n",
    "\n"
   ]
  },
  {
   "cell_type": "code",
   "execution_count": 18,
   "metadata": {},
   "outputs": [
    {
     "name": "stdout",
     "output_type": "stream",
     "text": [
      "-2.24589390637844\n",
      "[1.         0.82716049 0.75308642 0.77777778 0.90123457 1.12345679\n",
      " 1.44444444 1.86419753 2.38271605 3.        ]\n",
      "2.666666666666667\n"
     ]
    }
   ],
   "source": [
    "print(func(-1))\n",
    "pdf = sy.lambdify(z, f)\n",
    "print(pdf(np.linspace(-1, 1, 10)))\n",
    "tot = integrate.quad(pdf,-1,1)[0]\n",
    "print(tot)"
   ]
  },
  {
   "cell_type": "code",
   "execution_count": 7,
   "metadata": {},
   "outputs": [],
   "source": [
    "import math\n",
    "import scipy.integrate as integrate"
   ]
  },
  {
   "cell_type": "code",
   "execution_count": 8,
   "metadata": {},
   "outputs": [],
   "source": [
    "import sympy as sy\n",
    "x,y,z = sy.symbols(\"x y z\", positive=True)\n",
    "f = 1 + z + z**2 # z = cos(theta)"
   ]
  },
  {
   "cell_type": "code",
   "execution_count": 23,
   "metadata": {},
   "outputs": [
    {
     "name": "stdout",
     "output_type": "stream",
     "text": [
      "0.9733333333333337\n",
      "0.8666666666666669\n",
      "0.8479999999999994\n",
      "0.7093333333333336\n",
      "0.7626666666666668\n",
      "0.7599999999999995\n",
      "0.7626666666666668\n",
      "0.7040000000000003\n",
      "1.0053333333333339\n",
      "0.946666666666667\n",
      "1.0346666666666657\n",
      "1.1893333333333325\n",
      "1.2453333333333352\n",
      "1.501333333333332\n",
      "1.626666666666669\n",
      "1.8959999999999986\n",
      "2.0559999999999983\n",
      "2.4240000000000035\n",
      "2.541333333333331\n",
      "2.8133333333333375\n"
     ]
    },
    {
     "data": {
      "image/png": "[encoded data removed]",
      "text/plain": [
       "<Figure size 432x288 with 1 Axes>"
      ]
     },
     "metadata": {
      "needs_background": "light"
     },
     "output_type": "display_data"
    }
   ],
   "source": [
    "def invMethod(f, n, r=20):\n",
    "    cdf    = sy.integrate(f, (z, -1, x))\n",
    "    tot    = sy.simplify(cdf.subs(x, 1))\n",
    "    cdf    = cdf/tot\n",
    "    ppf    = sy.simplify(sy.solve(cdf-y,x)[2])\n",
    "    func   = sy.lambdify(y,ppf)\n",
    "    # calculate pdf --> f = 1 + z + z**2\n",
    "    pdf = sy.lambdify(z, f)\n",
    "    # integrate over pdf to norm bins\n",
    "    tot = integrate.quad(pdf,-1,1)[0]\n",
    "    \n",
    "    ## create histogram \n",
    "    # initialize random number generator\n",
    "    rand   = ran0(1234567)\n",
    "    # initialize np.array\n",
    "    nphist = np.empty(n)\n",
    "    # fill np.array with the inverse function \n",
    "    # evaluated at random positions\n",
    "    for i in range(n):\n",
    "        t = next(rand)\n",
    "        nphist[i] = func(t)    \n",
    "    # create histogramm\n",
    "    vals,bins,p = plt.hist(nphist, r, (-1, 1), density=True)\n",
    "    # adjust height of histogramm\n",
    "    for item in p:\n",
    "        item.set_height(item.get_height()*tot) # scale to integral\n",
    "\n",
    "    # plot reference\n",
    "    xx = np.linspace(-1,1,n)\n",
    "    plt.plot(xx, pdf(xx), color=\"red\")\n",
    "    plt.xlabel(fr\"$x=cos(\\theta)$\")\n",
    "    plt.ylabel(\"$f(x)$\")\n",
    "    plt.show()\n",
    "        \n",
    "invMethod(f, 10000)"
   ]
  },
  {
   "cell_type": "markdown",
   "metadata": {},
   "source": [
    "<font face=\"Times New Roman\" size=4>\n",
    "d) Hit-und-Miss Methode (4P)\n",
    "</font>"
   ]
  },
  {
   "cell_type": "markdown",
   "metadata": {},
   "source": [
    "Wiederholen Sie Aufgabenteil c) mit der Hit-und-Miss Methode. "
   ]
  },
  {
   "cell_type": "code",
   "execution_count": 19,
   "metadata": {},
   "outputs": [
    {
     "data": {
      "image/png": "[encoded data removed]",
      "text/plain": [
       "<Figure size 432x288 with 1 Axes>"
      ]
     },
     "metadata": {
      "needs_background": "light"
     },
     "output_type": "display_data"
    }
   ],
   "source": [
    "def rejMethod(f, n, r=20):\n",
    "    func   = sy.lambdify(z, f)\n",
    "    pmax   = func(1)\n",
    "    rand1  = ran0(1234567,-1,1)\n",
    "    rand2  = ran0(3425256,0,pmax)\n",
    "    nphist = np.array([])\n",
    "    for i in range(n):\n",
    "        t = next(rand1)\n",
    "        y = next(rand2)\n",
    "        if y>func(t): continue\n",
    "        nphist = np.append(nphist, t)\n",
    "    pdf = sy.lambdify(z, f)\n",
    "    tot = integrate.quad(pdf,-1,1)[0]\n",
    "    vals,bins,p = plt.hist(nphist, r, (-1, 1), density=True)\n",
    "    for item in p:\n",
    "        item.set_height(item.get_height()*tot) # scale to integral\n",
    "    \n",
    "    # plot reference\n",
    "    xx = np.linspace(-1,1,n)\n",
    "    plt.plot(xx, pdf(xx), color=\"red\")\n",
    "    plt.xlabel(\"cos(th)\")\n",
    "    plt.show()\n",
    "        \n",
    "rejMethod(f, 10000)"
   ]
  },
  {
   "cell_type": "code",
   "execution_count": null,
   "metadata": {},
   "outputs": [],
   "source": []
  },
  {
   "cell_type": "code",
   "execution_count": null,
   "metadata": {},
   "outputs": [],
   "source": []
  }
 ],
 "metadata": {
  "kernelspec": {
   "display_name": "Python 3 (ipykernel)",
   "language": "python",
   "name": "python3"
  },
  "language_info": {
   "codemirror_mode": {
    "name": "ipython",
    "version": 3
   },
   "file_extension": ".py",
   "mimetype": "text/x-python",
   "name": "python",
   "nbconvert_exporter": "python",
   "pygments_lexer": "ipython3",
   "version": "3.9.7"
  }
 },
 "nbformat": 4,
 "nbformat_minor": 4
}
