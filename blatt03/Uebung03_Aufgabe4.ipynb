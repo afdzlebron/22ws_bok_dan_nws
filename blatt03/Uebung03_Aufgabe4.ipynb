{
 "cells": [
  {
   "cell_type": "markdown",
   "metadata": {},
   "source": [
    "<font face=\"Times New Roman\" size=\"3\">\n",
    "<hr style=\"width:100%;height:2px;color:black\">\n",
    "<div style=\"width:100%\">\n",
    "    <div style=\"float:left;width:50%\">Albert-Ludwigs-Universität Freiburg</div>\n",
    "    <div style=\"float:left;width:50%;text-align:right\">Wintersemester 2022/23</div> \n",
    "</div>\n",
    "<div style=\"clear:both;text-align:center\">\n",
    "    <h1 style=\"margin-top:20px;padding:0px\">Datenanalyse für Naturwissenschaftler*Innen</h1>\n",
    "    <h2 style=\"margin:5px;padding:0px\">Statistische Methoden in Theorie und Praxis</h2>\n",
    "    Vorlesung: Dr. Andrea Knue<br />\n",
    "    Übungsleitung: Dr. Constantin Heidegger<br />\n",
    "    <h1 style=\"margin:10px;padding:0px\">Übung 3</h1>\n",
    "    Ausgabe: 4. November 2022 10:00 Uhr, Abgabe: 11. November 2022 bis 10:00 Uhr via Ilias\n",
    "</div>\n",
    "<hr style=\"font-family:width:100%;height:2px;color:black\">\n",
    "</font>"
   ]
  },
  {
   "cell_type": "markdown",
   "metadata": {},
   "source": [
    "<font face=\"Times New Roman\" size=3>\n",
    "    <h3 style=\"margin:0px\">Aufgabe 4: Zwei- und dreidimensionale Verteilungen (9P)</h3>\n",
    "</font>"
   ]
  },
  {
   "cell_type": "markdown",
   "metadata": {},
   "source": [
    "In dieser Aufgabe wollen wir das Erstellen und Darstellen von zweidimensionalen Verteilungen üben. Hierzu binden wir zunächst die zwei wesentlichen Bibliotheken ein, die wir brauchen:"
   ]
  },
  {
   "cell_type": "code",
   "execution_count": 3,
   "metadata": {},
   "outputs": [],
   "source": [
    "import matplotlib.pyplot as plt\n",
    "import numpy as np"
   ]
  },
  {
   "cell_type": "markdown",
   "metadata": {},
   "source": [
    "<font face=\"Times New Roman\" size=4>\n",
    "a) Scatter Plot (2P)\n",
    "</font>"
   ]
  },
  {
   "cell_type": "markdown",
   "metadata": {},
   "source": [
    "Verwenden Sie `numpy`'s `random` Modul um zwei Listen $x,y$ mit jeweils 1M Zahlen entsprechend der Normalverteilung zu würfeln. Die zwei Listen sollen die $x$ und $y$ Werte von zweidimensionalen Punkten darstellen (Beispiel: $x[0]$ und $y[0]$ gehoeren zusammen)."
   ]
  },
  {
   "cell_type": "code",
   "execution_count": 3,
   "metadata": {},
   "outputs": [],
   "source": [
    "mittelwert,sd,n = 0.,1.,1000000\n",
    "\n",
    "def normal(x,mittelwert,sd):\n",
    "    return ( 2.*np.pi*sd**2. )**-.5 * np.exp( -.5 * (x-mittelwert)**2. / sd**2. )\n",
    "\n",
    "x = np.random.normal(mittelwert,sd,n)   #generate random list of points from normal distribution\n",
    "y = normal(x,mittelwert,sd)             #evaluate the probability density at each point\n",
    "x,y = x[np.argsort(y)],np.sort(y)       #sort according to the probability density"
   ]
  },
  {
   "cell_type": "markdown",
   "metadata": {},
   "source": [
    "Erzeugen Sie einen sogenannten \"Scatter\" Plot, also ein zweidimensionales Diagramm in dem jeder Punkt entsprechend seiner $x$ und $y$ Werte eingezeichnet wird (die benoetigte Funktion heißt auch `scatter`). Je dichter der Plot, desto mehr Punkte befinden sich in der gleichen Fläche. Vergessen Sie nicht die Achsen zu bezeichnen, und setzen Sie sogenannte Ticks (also kleine Einteilungen auf den Achsen, die beim Ablesen der Werte entlang der Achsen helfen) auf beide Achsen. (Ticks und Achsenbezeichnungen werden fortan grundsätzlich bei allen Diagrammen erwartet und in die Punktevergabe mit einbezogen.) Zeichnen Sie diesen Scatterplot mit der Option \"cmap=plt.cm.jet\". "
   ]
  },
  {
   "cell_type": "code",
   "execution_count": 4,
   "metadata": {},
   "outputs": [
    {
     "data": {
      "text/plain": [
       "(array([-0.05,  0.  ,  0.05,  0.1 ,  0.15,  0.2 ,  0.25,  0.3 ,  0.35,\n",
       "         0.4 ,  0.45]),\n",
       " [Text(0, 0, ''),\n",
       "  Text(0, 0, ''),\n",
       "  Text(0, 0, ''),\n",
       "  Text(0, 0, ''),\n",
       "  Text(0, 0, ''),\n",
       "  Text(0, 0, ''),\n",
       "  Text(0, 0, ''),\n",
       "  Text(0, 0, ''),\n",
       "  Text(0, 0, ''),\n",
       "  Text(0, 0, ''),\n",
       "  Text(0, 0, '')])"
      ]
     },
     "execution_count": 4,
     "metadata": {},
     "output_type": "execute_result"
    },
    {
     "data": {
      "image/png": "[encoded data removed]",
      "text/plain": [
       "<Figure size 432x288 with 1 Axes>"
      ]
     },
     "metadata": {
      "needs_background": "light"
     },
     "output_type": "display_data"
    }
   ],
   "source": [
    "# Ploting\n",
    "plt.scatter(x, y,cmap=plt.cm.jet)\n",
    "\n",
    "# Naming axes \n",
    "plt.xlabel(\"x-Achse\")\n",
    "plt.ylabel(\"y-Achse\")\n",
    "\n",
    "# (Additional) Title\n",
    "plt.title(\"Scatter Plot of x normally distributed on y\")\n",
    "\n",
    "plt.xticks()\n",
    "plt.yticks()\n",
    "\n",
    "#plt.show()"
   ]
  },
  {
   "cell_type": "markdown",
   "metadata": {},
   "source": [
    "<font face=\"Times New Roman\" size=4>\n",
    "b) Zweidimensionales Histogramm (2P)\n",
    "</font>"
   ]
  },
  {
   "cell_type": "markdown",
   "metadata": {},
   "source": [
    "Betrachten Sie die folgenden zwei Variablen:"
   ]
  },
  {
   "cell_type": "code",
   "execution_count": 5,
   "metadata": {},
   "outputs": [],
   "source": [
    "# Die gewuenschten Mittelwerte des Datensatzes der simuliert werden soll.\n",
    "# Laenge [mm], Gewicht [g], Zeit t auf dem Laufrad [min]\n",
    "mu = np.array([9.0, 22.0, 120.0])\n",
    "\n",
    "# Die gewuenschte Kovarianzmatrix\n",
    "V = np.array([\n",
    "        [  5.40, +3.75, 7.00],\n",
    "        [ +3.75,  7.50,  -34.50],\n",
    "        [ 7.00,  -34.50,  250.25]\n",
    "    ])"
   ]
  },
  {
   "cell_type": "markdown",
   "metadata": {},
   "source": [
    "Hier sind nun also drei Observablen gegeben: die Länge, das Gewicht, und die Laufzeit einer Maus im Laufrad. Die Observablen sind über die in `V` gegebene Kovarianzmatrix verknüpft. Verwenden Sie `np.random`'s `multivariate_normal` Funktion um sich die Werte eines simulierten Datensatzes mit 40000 Einträgen für diese drei Variablen generieren zu lassen. "
   ]
  },
  {
   "cell_type": "code",
   "execution_count": 6,
   "metadata": {},
   "outputs": [
    {
     "name": "stderr",
     "output_type": "stream",
     "text": [
      "/var/folders/hy/jy4kjcxj6q96t_6x75rjt_fr0000gn/T/ipykernel_8150/705658386.py:1: RuntimeWarning: covariance is not positive-semidefinite.\n",
      "  multNormal = np.random.multivariate_normal(mu, V, size=400000)\n"
     ]
    }
   ],
   "source": [
    "multNormal = np.random.multivariate_normal(mu, V, size=400000)\n",
    "\n",
    "#np.info(multNormal)"
   ]
  },
  {
   "cell_type": "code",
   "execution_count": 7,
   "metadata": {},
   "outputs": [
    {
     "data": {
      "text/plain": [
       "array([[  9.75579663,  21.69961713, 138.99493912],\n",
       "       [  9.43644814,  21.85774145, 128.64895758],\n",
       "       [  7.440862  ,  16.79186053, 144.31995019],\n",
       "       ...,\n",
       "       [  6.19029983,  17.27222428, 134.60942203],\n",
       "       [  5.38398103,  21.31235581, 120.04604325],\n",
       "       [ 15.37404457,  24.04054861, 135.43179324]])"
      ]
     },
     "execution_count": 7,
     "metadata": {},
     "output_type": "execute_result"
    }
   ],
   "source": [
    "multNormal"
   ]
  },
  {
   "cell_type": "markdown",
   "metadata": {},
   "source": [
    "Erstellen Sie nun ein zweidimensionales Histogram mit `pyplot` und tragen Sie dort die Länge ($x$ Achse) und das Gewicht ($y$) der Mäuse ein. Verwenden Sie 26 Bins pro Achse, wobei $3\\leq x\\leq15$ und $15\\leq y\\leq29$. Nehmen Sie außerdem die \"jet\" Farbskala (via `plt.cm.jet` bzw. `plt.cm.get_cmap(\"jet\")`)."
   ]
  },
  {
   "cell_type": "code",
   "execution_count": 7,
   "metadata": {},
   "outputs": [
    {
     "data": {
      "text/plain": [
       "Text(0.5, 1.0, '2D Histogram with pyplot')"
      ]
     },
     "execution_count": 7,
     "metadata": {},
     "output_type": "execute_result"
    },
    {
     "data": {
      "image/png": "[encoded data removed]",
      "text/plain": [
       "<Figure size 432x288 with 1 Axes>"
      ]
     },
     "metadata": {
      "needs_background": "light"
     },
     "output_type": "display_data"
    }
   ],
   "source": [
    "laenge = np.array([multNormal[i][0] for i in range(len(multNormal))])\n",
    "gewicht = np.array([multNormal[i][1] for i in range(len(multNormal))])\n",
    "\n",
    "x_bins = np.linspace(3, 15, 26)\n",
    "y_bins = np.linspace(15, 29, 26)\n",
    "\n",
    "\n",
    "Hist2d = plt.hist2d(laenge, gewicht, bins =[x_bins, y_bins])\n",
    "plt.cm.get_cmap(\"jet\")\n",
    "plt.xlabel(\"Länge\")\n",
    "plt.ylabel(\"Gewicht\")\n",
    "plt.title(\"2D Histogram with pyplot\")\n",
    "\n",
    "## Frage: Sollen \"Ticks\" auch hier erstellt werden?\n",
    "\n"
   ]
  },
  {
   "cell_type": "markdown",
   "metadata": {},
   "source": [
    "<font face=\"Times New Roman\" size=4>\n",
    "c) Dreidimensionales Histogramm (5P)\n",
    "</font>"
   ]
  },
  {
   "cell_type": "markdown",
   "metadata": {},
   "source": [
    "Wir wollen nun das Diagramm aus Teil b) in drei Dimensionen darstellen. Das funktioniert auf folgende Art und Weise. Zunächst müssen Sie einen Sub-Plot erstellen und für diesen die 3-dimensionale Projektion auswählen."
   ]
  },
  {
   "cell_type": "code",
   "execution_count": 9,
   "metadata": {},
   "outputs": [
    {
     "data": {
      "image/png": "[encoded data removed]",
      "text/plain": [
       "<Figure size 432x288 with 1 Axes>"
      ]
     },
     "metadata": {
      "needs_background": "light"
     },
     "output_type": "display_data"
    }
   ],
   "source": [
    "fig  = plt.figure()\n",
    "ax   = fig.add_subplot(projection='3d')"
   ]
  },
  {
   "cell_type": "code",
   "execution_count": 17,
   "metadata": {},
   "outputs": [
    {
     "ename": "AttributeError",
     "evalue": "'QuadMesh' object has no attribute 'do_3d_projection'",
     "output_type": "error",
     "traceback": [
      "\u001b[0;31m---------------------------------------------------------------------------\u001b[0m",
      "\u001b[0;31mAttributeError\u001b[0m                            Traceback (most recent call last)",
      "\u001b[0;32m/usr/local/lib/python3.10/site-packages/IPython/core/formatters.py\u001b[0m in \u001b[0;36m__call__\u001b[0;34m(self, obj)\u001b[0m\n\u001b[1;32m    339\u001b[0m                 \u001b[0;32mpass\u001b[0m\u001b[0;34m\u001b[0m\u001b[0;34m\u001b[0m\u001b[0m\n\u001b[1;32m    340\u001b[0m             \u001b[0;32melse\u001b[0m\u001b[0;34m:\u001b[0m\u001b[0;34m\u001b[0m\u001b[0;34m\u001b[0m\u001b[0m\n\u001b[0;32m--> 341\u001b[0;31m                 \u001b[0;32mreturn\u001b[0m \u001b[0mprinter\u001b[0m\u001b[0;34m(\u001b[0m\u001b[0mobj\u001b[0m\u001b[0;34m)\u001b[0m\u001b[0;34m\u001b[0m\u001b[0;34m\u001b[0m\u001b[0m\n\u001b[0m\u001b[1;32m    342\u001b[0m             \u001b[0;31m# Finally look for special method names\u001b[0m\u001b[0;34m\u001b[0m\u001b[0;34m\u001b[0m\u001b[0m\n\u001b[1;32m    343\u001b[0m             \u001b[0mmethod\u001b[0m \u001b[0;34m=\u001b[0m \u001b[0mget_real_method\u001b[0m\u001b[0;34m(\u001b[0m\u001b[0mobj\u001b[0m\u001b[0;34m,\u001b[0m \u001b[0mself\u001b[0m\u001b[0;34m.\u001b[0m\u001b[0mprint_method\u001b[0m\u001b[0;34m)\u001b[0m\u001b[0;34m\u001b[0m\u001b[0;34m\u001b[0m\u001b[0m\n",
      "\u001b[0;32m/usr/local/lib/python3.10/site-packages/IPython/core/pylabtools.py\u001b[0m in \u001b[0;36mprint_figure\u001b[0;34m(fig, fmt, bbox_inches, base64, **kwargs)\u001b[0m\n\u001b[1;32m    149\u001b[0m         \u001b[0mFigureCanvasBase\u001b[0m\u001b[0;34m(\u001b[0m\u001b[0mfig\u001b[0m\u001b[0;34m)\u001b[0m\u001b[0;34m\u001b[0m\u001b[0;34m\u001b[0m\u001b[0m\n\u001b[1;32m    150\u001b[0m \u001b[0;34m\u001b[0m\u001b[0m\n\u001b[0;32m--> 151\u001b[0;31m     \u001b[0mfig\u001b[0m\u001b[0;34m.\u001b[0m\u001b[0mcanvas\u001b[0m\u001b[0;34m.\u001b[0m\u001b[0mprint_figure\u001b[0m\u001b[0;34m(\u001b[0m\u001b[0mbytes_io\u001b[0m\u001b[0;34m,\u001b[0m \u001b[0;34m**\u001b[0m\u001b[0mkw\u001b[0m\u001b[0;34m)\u001b[0m\u001b[0;34m\u001b[0m\u001b[0;34m\u001b[0m\u001b[0m\n\u001b[0m\u001b[1;32m    152\u001b[0m     \u001b[0mdata\u001b[0m \u001b[0;34m=\u001b[0m \u001b[0mbytes_io\u001b[0m\u001b[0;34m.\u001b[0m\u001b[0mgetvalue\u001b[0m\u001b[0;34m(\u001b[0m\u001b[0;34m)\u001b[0m\u001b[0;34m\u001b[0m\u001b[0;34m\u001b[0m\u001b[0m\n\u001b[1;32m    153\u001b[0m     \u001b[0;32mif\u001b[0m \u001b[0mfmt\u001b[0m \u001b[0;34m==\u001b[0m \u001b[0;34m'svg'\u001b[0m\u001b[0;34m:\u001b[0m\u001b[0;34m\u001b[0m\u001b[0;34m\u001b[0m\u001b[0m\n",
      "\u001b[0;32m/usr/local/lib/python3.10/site-packages/matplotlib/backend_bases.py\u001b[0m in \u001b[0;36mprint_figure\u001b[0;34m(self, filename, dpi, facecolor, edgecolor, orientation, format, bbox_inches, pad_inches, bbox_extra_artists, backend, **kwargs)\u001b[0m\n\u001b[1;32m   2228\u001b[0m                        else suppress())\n\u001b[1;32m   2229\u001b[0m                 \u001b[0;32mwith\u001b[0m \u001b[0mctx\u001b[0m\u001b[0;34m:\u001b[0m\u001b[0;34m\u001b[0m\u001b[0;34m\u001b[0m\u001b[0m\n\u001b[0;32m-> 2230\u001b[0;31m                     \u001b[0mself\u001b[0m\u001b[0;34m.\u001b[0m\u001b[0mfigure\u001b[0m\u001b[0;34m.\u001b[0m\u001b[0mdraw\u001b[0m\u001b[0;34m(\u001b[0m\u001b[0mrenderer\u001b[0m\u001b[0;34m)\u001b[0m\u001b[0;34m\u001b[0m\u001b[0;34m\u001b[0m\u001b[0m\n\u001b[0m\u001b[1;32m   2231\u001b[0m \u001b[0;34m\u001b[0m\u001b[0m\n\u001b[1;32m   2232\u001b[0m             \u001b[0;32mif\u001b[0m \u001b[0mbbox_inches\u001b[0m\u001b[0;34m:\u001b[0m\u001b[0;34m\u001b[0m\u001b[0;34m\u001b[0m\u001b[0m\n",
      "\u001b[0;32m/usr/local/lib/python3.10/site-packages/matplotlib/artist.py\u001b[0m in \u001b[0;36mdraw_wrapper\u001b[0;34m(artist, renderer, *args, **kwargs)\u001b[0m\n\u001b[1;32m     72\u001b[0m     \u001b[0;34m@\u001b[0m\u001b[0mwraps\u001b[0m\u001b[0;34m(\u001b[0m\u001b[0mdraw\u001b[0m\u001b[0;34m)\u001b[0m\u001b[0;34m\u001b[0m\u001b[0;34m\u001b[0m\u001b[0m\n\u001b[1;32m     73\u001b[0m     \u001b[0;32mdef\u001b[0m \u001b[0mdraw_wrapper\u001b[0m\u001b[0;34m(\u001b[0m\u001b[0martist\u001b[0m\u001b[0;34m,\u001b[0m \u001b[0mrenderer\u001b[0m\u001b[0;34m,\u001b[0m \u001b[0;34m*\u001b[0m\u001b[0margs\u001b[0m\u001b[0;34m,\u001b[0m \u001b[0;34m**\u001b[0m\u001b[0mkwargs\u001b[0m\u001b[0;34m)\u001b[0m\u001b[0;34m:\u001b[0m\u001b[0;34m\u001b[0m\u001b[0;34m\u001b[0m\u001b[0m\n\u001b[0;32m---> 74\u001b[0;31m         \u001b[0mresult\u001b[0m \u001b[0;34m=\u001b[0m \u001b[0mdraw\u001b[0m\u001b[0;34m(\u001b[0m\u001b[0martist\u001b[0m\u001b[0;34m,\u001b[0m \u001b[0mrenderer\u001b[0m\u001b[0;34m,\u001b[0m \u001b[0;34m*\u001b[0m\u001b[0margs\u001b[0m\u001b[0;34m,\u001b[0m \u001b[0;34m**\u001b[0m\u001b[0mkwargs\u001b[0m\u001b[0;34m)\u001b[0m\u001b[0;34m\u001b[0m\u001b[0;34m\u001b[0m\u001b[0m\n\u001b[0m\u001b[1;32m     75\u001b[0m         \u001b[0;32mif\u001b[0m \u001b[0mrenderer\u001b[0m\u001b[0;34m.\u001b[0m\u001b[0m_rasterizing\u001b[0m\u001b[0;34m:\u001b[0m\u001b[0;34m\u001b[0m\u001b[0;34m\u001b[0m\u001b[0m\n\u001b[1;32m     76\u001b[0m             \u001b[0mrenderer\u001b[0m\u001b[0;34m.\u001b[0m\u001b[0mstop_rasterizing\u001b[0m\u001b[0;34m(\u001b[0m\u001b[0;34m)\u001b[0m\u001b[0;34m\u001b[0m\u001b[0;34m\u001b[0m\u001b[0m\n",
      "\u001b[0;32m/usr/local/lib/python3.10/site-packages/matplotlib/artist.py\u001b[0m in \u001b[0;36mdraw_wrapper\u001b[0;34m(artist, renderer, *args, **kwargs)\u001b[0m\n\u001b[1;32m     49\u001b[0m                 \u001b[0mrenderer\u001b[0m\u001b[0;34m.\u001b[0m\u001b[0mstart_filter\u001b[0m\u001b[0;34m(\u001b[0m\u001b[0;34m)\u001b[0m\u001b[0;34m\u001b[0m\u001b[0;34m\u001b[0m\u001b[0m\n\u001b[1;32m     50\u001b[0m \u001b[0;34m\u001b[0m\u001b[0m\n\u001b[0;32m---> 51\u001b[0;31m             \u001b[0;32mreturn\u001b[0m \u001b[0mdraw\u001b[0m\u001b[0;34m(\u001b[0m\u001b[0martist\u001b[0m\u001b[0;34m,\u001b[0m \u001b[0mrenderer\u001b[0m\u001b[0;34m,\u001b[0m \u001b[0;34m*\u001b[0m\u001b[0margs\u001b[0m\u001b[0;34m,\u001b[0m \u001b[0;34m**\u001b[0m\u001b[0mkwargs\u001b[0m\u001b[0;34m)\u001b[0m\u001b[0;34m\u001b[0m\u001b[0;34m\u001b[0m\u001b[0m\n\u001b[0m\u001b[1;32m     52\u001b[0m         \u001b[0;32mfinally\u001b[0m\u001b[0;34m:\u001b[0m\u001b[0;34m\u001b[0m\u001b[0;34m\u001b[0m\u001b[0m\n\u001b[1;32m     53\u001b[0m             \u001b[0;32mif\u001b[0m \u001b[0martist\u001b[0m\u001b[0;34m.\u001b[0m\u001b[0mget_agg_filter\u001b[0m\u001b[0;34m(\u001b[0m\u001b[0;34m)\u001b[0m \u001b[0;32mis\u001b[0m \u001b[0;32mnot\u001b[0m \u001b[0;32mNone\u001b[0m\u001b[0;34m:\u001b[0m\u001b[0;34m\u001b[0m\u001b[0;34m\u001b[0m\u001b[0m\n",
      "\u001b[0;32m/usr/local/lib/python3.10/site-packages/matplotlib/figure.py\u001b[0m in \u001b[0;36mdraw\u001b[0;34m(self, renderer)\u001b[0m\n\u001b[1;32m   2788\u001b[0m \u001b[0;34m\u001b[0m\u001b[0m\n\u001b[1;32m   2789\u001b[0m             \u001b[0mself\u001b[0m\u001b[0;34m.\u001b[0m\u001b[0mpatch\u001b[0m\u001b[0;34m.\u001b[0m\u001b[0mdraw\u001b[0m\u001b[0;34m(\u001b[0m\u001b[0mrenderer\u001b[0m\u001b[0;34m)\u001b[0m\u001b[0;34m\u001b[0m\u001b[0;34m\u001b[0m\u001b[0m\n\u001b[0;32m-> 2790\u001b[0;31m             mimage._draw_list_compositing_images(\n\u001b[0m\u001b[1;32m   2791\u001b[0m                 renderer, self, artists, self.suppressComposite)\n\u001b[1;32m   2792\u001b[0m \u001b[0;34m\u001b[0m\u001b[0m\n",
      "\u001b[0;32m/usr/local/lib/python3.10/site-packages/matplotlib/image.py\u001b[0m in \u001b[0;36m_draw_list_compositing_images\u001b[0;34m(renderer, parent, artists, suppress_composite)\u001b[0m\n\u001b[1;32m    130\u001b[0m     \u001b[0;32mif\u001b[0m \u001b[0mnot_composite\u001b[0m \u001b[0;32mor\u001b[0m \u001b[0;32mnot\u001b[0m \u001b[0mhas_images\u001b[0m\u001b[0;34m:\u001b[0m\u001b[0;34m\u001b[0m\u001b[0;34m\u001b[0m\u001b[0m\n\u001b[1;32m    131\u001b[0m         \u001b[0;32mfor\u001b[0m \u001b[0ma\u001b[0m \u001b[0;32min\u001b[0m \u001b[0martists\u001b[0m\u001b[0;34m:\u001b[0m\u001b[0;34m\u001b[0m\u001b[0;34m\u001b[0m\u001b[0m\n\u001b[0;32m--> 132\u001b[0;31m             \u001b[0ma\u001b[0m\u001b[0;34m.\u001b[0m\u001b[0mdraw\u001b[0m\u001b[0;34m(\u001b[0m\u001b[0mrenderer\u001b[0m\u001b[0;34m)\u001b[0m\u001b[0;34m\u001b[0m\u001b[0;34m\u001b[0m\u001b[0m\n\u001b[0m\u001b[1;32m    133\u001b[0m     \u001b[0;32melse\u001b[0m\u001b[0;34m:\u001b[0m\u001b[0;34m\u001b[0m\u001b[0;34m\u001b[0m\u001b[0m\n\u001b[1;32m    134\u001b[0m         \u001b[0;31m# Composite any adjacent images together\u001b[0m\u001b[0;34m\u001b[0m\u001b[0;34m\u001b[0m\u001b[0m\n",
      "\u001b[0;32m/usr/local/lib/python3.10/site-packages/matplotlib/artist.py\u001b[0m in \u001b[0;36mdraw_wrapper\u001b[0;34m(artist, renderer, *args, **kwargs)\u001b[0m\n\u001b[1;32m     49\u001b[0m                 \u001b[0mrenderer\u001b[0m\u001b[0;34m.\u001b[0m\u001b[0mstart_filter\u001b[0m\u001b[0;34m(\u001b[0m\u001b[0;34m)\u001b[0m\u001b[0;34m\u001b[0m\u001b[0;34m\u001b[0m\u001b[0m\n\u001b[1;32m     50\u001b[0m \u001b[0;34m\u001b[0m\u001b[0m\n\u001b[0;32m---> 51\u001b[0;31m             \u001b[0;32mreturn\u001b[0m \u001b[0mdraw\u001b[0m\u001b[0;34m(\u001b[0m\u001b[0martist\u001b[0m\u001b[0;34m,\u001b[0m \u001b[0mrenderer\u001b[0m\u001b[0;34m,\u001b[0m \u001b[0;34m*\u001b[0m\u001b[0margs\u001b[0m\u001b[0;34m,\u001b[0m \u001b[0;34m**\u001b[0m\u001b[0mkwargs\u001b[0m\u001b[0;34m)\u001b[0m\u001b[0;34m\u001b[0m\u001b[0;34m\u001b[0m\u001b[0m\n\u001b[0m\u001b[1;32m     52\u001b[0m         \u001b[0;32mfinally\u001b[0m\u001b[0;34m:\u001b[0m\u001b[0;34m\u001b[0m\u001b[0;34m\u001b[0m\u001b[0m\n\u001b[1;32m     53\u001b[0m             \u001b[0;32mif\u001b[0m \u001b[0martist\u001b[0m\u001b[0;34m.\u001b[0m\u001b[0mget_agg_filter\u001b[0m\u001b[0;34m(\u001b[0m\u001b[0;34m)\u001b[0m \u001b[0;32mis\u001b[0m \u001b[0;32mnot\u001b[0m \u001b[0;32mNone\u001b[0m\u001b[0;34m:\u001b[0m\u001b[0;34m\u001b[0m\u001b[0;34m\u001b[0m\u001b[0m\n",
      "\u001b[0;32m/usr/local/lib/python3.10/site-packages/mpl_toolkits/mplot3d/axes3d.py\u001b[0m in \u001b[0;36mdraw\u001b[0;34m(self, renderer)\u001b[0m\n\u001b[1;32m    483\u001b[0m                                 for axis in self._get_axis_list()) + 1\n\u001b[1;32m    484\u001b[0m             for i, col in enumerate(\n\u001b[0;32m--> 485\u001b[0;31m                     sorted(self.collections,\n\u001b[0m\u001b[1;32m    486\u001b[0m                            \u001b[0mkey\u001b[0m\u001b[0;34m=\u001b[0m\u001b[0mdo_3d_projection\u001b[0m\u001b[0;34m,\u001b[0m\u001b[0;34m\u001b[0m\u001b[0;34m\u001b[0m\u001b[0m\n\u001b[1;32m    487\u001b[0m                            reverse=True)):\n",
      "\u001b[0;32m/usr/local/lib/python3.10/site-packages/mpl_toolkits/mplot3d/axes3d.py\u001b[0m in \u001b[0;36mdo_3d_projection\u001b[0;34m(artist)\u001b[0m\n\u001b[1;32m    476\u001b[0m                     \u001b[0;34m\"do_3d_projection() was deprecated in Matplotlib \"\u001b[0m\u001b[0;34m\u001b[0m\u001b[0;34m\u001b[0m\u001b[0m\n\u001b[1;32m    477\u001b[0m                     \"%(since)s and will be removed %(removal)s.\")\n\u001b[0;32m--> 478\u001b[0;31m                 \u001b[0;32mreturn\u001b[0m \u001b[0martist\u001b[0m\u001b[0;34m.\u001b[0m\u001b[0mdo_3d_projection\u001b[0m\u001b[0;34m(\u001b[0m\u001b[0mrenderer\u001b[0m\u001b[0;34m)\u001b[0m\u001b[0;34m\u001b[0m\u001b[0;34m\u001b[0m\u001b[0m\n\u001b[0m\u001b[1;32m    479\u001b[0m \u001b[0;34m\u001b[0m\u001b[0m\n\u001b[1;32m    480\u001b[0m             \u001b[0;31m# Calculate projection of collections and patches and zorder them.\u001b[0m\u001b[0;34m\u001b[0m\u001b[0;34m\u001b[0m\u001b[0m\n",
      "\u001b[0;31mAttributeError\u001b[0m: 'QuadMesh' object has no attribute 'do_3d_projection'"
     ]
    },
    {
     "data": {
      "text/plain": [
       "<Figure size 432x288 with 1 Axes>"
      ]
     },
     "metadata": {
      "needs_background": "light"
     },
     "output_type": "display_data"
    }
   ],
   "source": [
    "fig = plt.figure()\n",
    "ax = fig.add_subplot(1,1,1, projection='3d')\n",
    "ax.hist2d(laenge,gewicht, bins =[x_bins, y_bins])\n",
    "ax.grid()\n",
    "\n",
    "plt.show()"
   ]
  },
  {
   "cell_type": "markdown",
   "metadata": {},
   "source": [
    "**Achtung**: Der 3D Plot via `add_subplot` wird nur dann korrekt angezeigt, wenn Sie alles gemeinsam in einer Code Zelle ausführen. Die Zellen hier wurden zur Instruktion freigelassen, damit Sie jeden Schritt nacheinander erledigen können. Aber es ist ratsam, alles gleich in eine Zelle zu programmieren."
   ]
  },
  {
   "cell_type": "markdown",
   "metadata": {},
   "source": [
    "Danach erzeugen Sie das zweidimensionale Histogramm ähnlich wie in Teil (b), aber mit folgender Änderung: Sie verwenden `numpy`'s `histogram2d` Funktion anstelle der Methode von `pyplot` und Sie lassen sich die Datenpunkte und die Bingrenzen zurückgeben (c.f. https://numpy.org/doc/stable/reference/generated/numpy.histogram2d.html)."
   ]
  },
  {
   "cell_type": "code",
   "execution_count": 15,
   "metadata": {},
   "outputs": [
    {
     "data": {
      "text/plain": [
       "(array([[5.800e+01, 6.600e+01, 1.030e+02, 1.200e+02, 1.340e+02, 1.730e+02,\n",
       "         1.820e+02, 1.700e+02, 1.550e+02, 1.350e+02, 1.500e+02, 1.090e+02,\n",
       "         9.100e+01, 8.000e+01, 7.000e+01, 4.900e+01, 1.800e+01, 2.400e+01,\n",
       "         1.200e+01, 4.000e+00, 2.000e+00, 5.000e+00, 2.000e+00, 0.000e+00,\n",
       "         1.000e+00],\n",
       "        [7.400e+01, 1.060e+02, 1.200e+02, 1.630e+02, 1.960e+02, 2.230e+02,\n",
       "         2.750e+02, 2.550e+02, 2.540e+02, 2.430e+02, 2.290e+02, 1.920e+02,\n",
       "         1.740e+02, 1.250e+02, 1.090e+02, 7.600e+01, 5.900e+01, 4.600e+01,\n",
       "         1.600e+01, 1.500e+01, 6.000e+00, 6.000e+00, 1.000e+00, 2.000e+00,\n",
       "         2.000e+00],\n",
       "        [1.130e+02, 1.250e+02, 1.760e+02, 2.250e+02, 3.000e+02, 3.100e+02,\n",
       "         3.580e+02, 3.640e+02, 3.690e+02, 4.020e+02, 3.490e+02, 3.150e+02,\n",
       "         2.670e+02, 2.120e+02, 1.670e+02, 1.280e+02, 9.200e+01, 5.700e+01,\n",
       "         3.600e+01, 2.800e+01, 1.700e+01, 9.000e+00, 4.000e+00, 2.000e+00,\n",
       "         1.000e+00],\n",
       "        [1.130e+02, 1.760e+02, 2.130e+02, 3.190e+02, 3.810e+02, 4.170e+02,\n",
       "         4.830e+02, 5.630e+02, 5.590e+02, 5.590e+02, 5.280e+02, 4.600e+02,\n",
       "         4.140e+02, 3.140e+02, 2.690e+02, 2.030e+02, 1.400e+02, 1.130e+02,\n",
       "         8.400e+01, 5.600e+01, 2.500e+01, 2.300e+01, 6.000e+00, 6.000e+00,\n",
       "         3.000e+00],\n",
       "        [1.250e+02, 2.200e+02, 3.170e+02, 3.670e+02, 4.570e+02, 5.570e+02,\n",
       "         7.080e+02, 7.180e+02, 7.040e+02, 7.630e+02, 7.410e+02, 6.770e+02,\n",
       "         6.160e+02, 5.170e+02, 4.400e+02, 3.100e+02, 2.290e+02, 1.910e+02,\n",
       "         1.260e+02, 8.200e+01, 4.500e+01, 3.800e+01, 1.500e+01, 1.000e+01,\n",
       "         6.000e+00],\n",
       "        [1.470e+02, 2.260e+02, 3.290e+02, 4.590e+02, 5.540e+02, 7.260e+02,\n",
       "         8.540e+02, 9.510e+02, 9.630e+02, 1.033e+03, 1.022e+03, 9.140e+02,\n",
       "         8.630e+02, 7.730e+02, 5.830e+02, 4.820e+02, 3.580e+02, 2.610e+02,\n",
       "         1.880e+02, 1.240e+02, 7.700e+01, 4.300e+01, 3.500e+01, 1.900e+01,\n",
       "         7.000e+00],\n",
       "        [1.460e+02, 3.080e+02, 4.090e+02, 5.310e+02, 6.680e+02, 8.300e+02,\n",
       "         9.720e+02, 1.069e+03, 1.208e+03, 1.335e+03, 1.241e+03, 1.263e+03,\n",
       "         1.116e+03, 1.029e+03, 8.730e+02, 6.280e+02, 5.160e+02, 3.640e+02,\n",
       "         2.760e+02, 1.560e+02, 1.150e+02, 8.700e+01, 4.700e+01, 2.600e+01,\n",
       "         1.300e+01],\n",
       "        [1.710e+02, 2.940e+02, 4.500e+02, 5.790e+02, 7.540e+02, 9.580e+02,\n",
       "         1.188e+03, 1.324e+03, 1.495e+03, 1.521e+03, 1.533e+03, 1.536e+03,\n",
       "         1.407e+03, 1.312e+03, 1.147e+03, 9.170e+02, 7.090e+02, 5.290e+02,\n",
       "         3.760e+02, 2.680e+02, 1.660e+02, 1.060e+02, 5.600e+01, 4.600e+01,\n",
       "         2.500e+01],\n",
       "        [1.710e+02, 2.470e+02, 3.670e+02, 5.800e+02, 7.780e+02, 1.078e+03,\n",
       "         1.296e+03, 1.503e+03, 1.742e+03, 1.945e+03, 1.894e+03, 1.912e+03,\n",
       "         1.796e+03, 1.612e+03, 1.430e+03, 1.197e+03, 9.520e+02, 7.140e+02,\n",
       "         5.030e+02, 3.720e+02, 2.460e+02, 1.490e+02, 1.020e+02, 5.300e+01,\n",
       "         3.700e+01],\n",
       "        [1.690e+02, 2.830e+02, 3.960e+02, 5.640e+02, 7.730e+02, 1.040e+03,\n",
       "         1.319e+03, 1.617e+03, 1.876e+03, 2.077e+03, 2.151e+03, 2.213e+03,\n",
       "         2.113e+03, 1.985e+03, 1.751e+03, 1.400e+03, 1.257e+03, 8.910e+02,\n",
       "         7.130e+02, 4.860e+02, 3.540e+02, 2.260e+02, 1.400e+02, 8.800e+01,\n",
       "         4.900e+01],\n",
       "        [1.720e+02, 2.290e+02, 3.650e+02, 5.120e+02, 8.100e+02, 1.081e+03,\n",
       "         1.351e+03, 1.629e+03, 1.917e+03, 2.136e+03, 2.291e+03, 2.457e+03,\n",
       "         2.270e+03, 2.269e+03, 2.059e+03, 1.729e+03, 1.485e+03, 1.172e+03,\n",
       "         8.270e+02, 6.100e+02, 4.280e+02, 2.770e+02, 1.930e+02, 1.110e+02,\n",
       "         7.300e+01],\n",
       "        [1.290e+02, 2.320e+02, 3.720e+02, 5.250e+02, 7.020e+02, 1.023e+03,\n",
       "         1.289e+03, 1.599e+03, 1.874e+03, 2.211e+03, 2.354e+03, 2.610e+03,\n",
       "         2.555e+03, 2.406e+03, 2.202e+03, 1.846e+03, 1.671e+03, 1.336e+03,\n",
       "         1.096e+03, 7.840e+02, 5.990e+02, 3.330e+02, 2.540e+02, 1.560e+02,\n",
       "         6.400e+01],\n",
       "        [1.050e+02, 1.970e+02, 3.020e+02, 4.340e+02, 6.730e+02, 8.960e+02,\n",
       "         1.187e+03, 1.443e+03, 1.803e+03, 2.098e+03, 2.317e+03, 2.636e+03,\n",
       "         2.614e+03, 2.475e+03, 2.361e+03, 2.165e+03, 1.775e+03, 1.549e+03,\n",
       "         1.090e+03, 9.040e+02, 6.780e+02, 4.450e+02, 3.020e+02, 1.690e+02,\n",
       "         1.250e+02],\n",
       "        [8.900e+01, 1.550e+02, 2.410e+02, 3.960e+02, 5.680e+02, 7.960e+02,\n",
       "         1.011e+03, 1.375e+03, 1.648e+03, 1.884e+03, 2.300e+03, 2.420e+03,\n",
       "         2.574e+03, 2.525e+03, 2.380e+03, 2.172e+03, 1.910e+03, 1.617e+03,\n",
       "         1.304e+03, 1.036e+03, 7.010e+02, 5.170e+02, 3.380e+02, 2.130e+02,\n",
       "         1.610e+02],\n",
       "        [5.700e+01, 1.160e+02, 1.880e+02, 3.180e+02, 4.340e+02, 6.310e+02,\n",
       "         8.620e+02, 1.170e+03, 1.513e+03, 1.660e+03, 2.009e+03, 2.224e+03,\n",
       "         2.401e+03, 2.400e+03, 2.281e+03, 2.205e+03, 1.978e+03, 1.654e+03,\n",
       "         1.283e+03, 1.018e+03, 8.130e+02, 5.190e+02, 4.110e+02, 2.720e+02,\n",
       "         1.370e+02],\n",
       "        [4.700e+01, 7.700e+01, 1.430e+02, 2.270e+02, 3.480e+02, 4.900e+02,\n",
       "         7.060e+02, 9.830e+02, 1.187e+03, 1.547e+03, 1.667e+03, 2.026e+03,\n",
       "         2.170e+03, 2.156e+03, 2.096e+03, 2.074e+03, 1.832e+03, 1.530e+03,\n",
       "         1.378e+03, 1.038e+03, 8.070e+02, 6.050e+02, 4.040e+02, 2.660e+02,\n",
       "         1.820e+02],\n",
       "        [3.400e+01, 5.300e+01, 1.070e+02, 1.500e+02, 2.560e+02, 3.650e+02,\n",
       "         5.650e+02, 7.140e+02, 9.280e+02, 1.237e+03, 1.386e+03, 1.585e+03,\n",
       "         1.735e+03, 1.945e+03, 1.882e+03, 1.906e+03, 1.777e+03, 1.473e+03,\n",
       "         1.222e+03, 1.077e+03, 8.470e+02, 6.200e+02, 4.240e+02, 2.860e+02,\n",
       "         1.540e+02],\n",
       "        [2.300e+01, 4.800e+01, 7.000e+01, 1.010e+02, 1.600e+02, 2.960e+02,\n",
       "         4.100e+02, 5.740e+02, 7.110e+02, 9.260e+02, 1.130e+03, 1.267e+03,\n",
       "         1.462e+03, 1.630e+03, 1.569e+03, 1.586e+03, 1.485e+03, 1.331e+03,\n",
       "         1.166e+03, 9.530e+02, 6.970e+02, 5.840e+02, 3.850e+02, 2.670e+02,\n",
       "         2.020e+02],\n",
       "        [1.400e+01, 2.700e+01, 4.500e+01, 7.400e+01, 1.230e+02, 2.070e+02,\n",
       "         2.700e+02, 3.690e+02, 5.200e+02, 7.080e+02, 8.300e+02, 9.760e+02,\n",
       "         1.123e+03, 1.225e+03, 1.335e+03, 1.246e+03, 1.244e+03, 1.068e+03,\n",
       "         9.680e+02, 8.500e+02, 6.890e+02, 5.250e+02, 4.350e+02, 2.990e+02,\n",
       "         1.830e+02],\n",
       "        [1.000e+01, 1.900e+01, 2.600e+01, 4.300e+01, 8.400e+01, 1.270e+02,\n",
       "         1.750e+02, 2.690e+02, 3.450e+02, 4.460e+02, 6.540e+02, 7.420e+02,\n",
       "         8.560e+02, 9.750e+02, 1.009e+03, 9.980e+02, 1.026e+03, 9.500e+02,\n",
       "         7.920e+02, 7.350e+02, 5.630e+02, 4.590e+02, 3.330e+02, 2.360e+02,\n",
       "         1.650e+02],\n",
       "        [5.000e+00, 1.200e+01, 1.600e+01, 2.500e+01, 5.400e+01, 8.900e+01,\n",
       "         1.420e+02, 1.720e+02, 2.420e+02, 3.060e+02, 4.330e+02, 5.310e+02,\n",
       "         6.260e+02, 6.760e+02, 7.500e+02, 7.950e+02, 7.540e+02, 7.240e+02,\n",
       "         6.150e+02, 5.350e+02, 4.910e+02, 3.780e+02, 2.950e+02, 2.140e+02,\n",
       "         1.290e+02],\n",
       "        [1.000e+00, 4.000e+00, 1.000e+01, 2.700e+01, 4.200e+01, 5.600e+01,\n",
       "         7.100e+01, 1.150e+02, 1.510e+02, 2.240e+02, 2.690e+02, 3.990e+02,\n",
       "         4.240e+02, 4.670e+02, 4.800e+02, 5.670e+02, 5.320e+02, 5.420e+02,\n",
       "         5.050e+02, 4.610e+02, 3.940e+02, 2.730e+02, 2.500e+02, 1.780e+02,\n",
       "         1.230e+02],\n",
       "        [2.000e+00, 3.000e+00, 5.000e+00, 1.800e+01, 1.900e+01, 2.500e+01,\n",
       "         3.600e+01, 6.600e+01, 8.500e+01, 1.180e+02, 1.710e+02, 2.190e+02,\n",
       "         2.560e+02, 2.990e+02, 3.500e+02, 3.710e+02, 3.600e+02, 3.920e+02,\n",
       "         3.810e+02, 3.400e+02, 3.010e+02, 2.140e+02, 1.750e+02, 1.390e+02,\n",
       "         9.700e+01],\n",
       "        [0.000e+00, 1.000e+00, 1.000e+00, 6.000e+00, 1.200e+01, 1.500e+01,\n",
       "         1.900e+01, 4.500e+01, 5.500e+01, 6.400e+01, 1.180e+02, 1.400e+02,\n",
       "         1.590e+02, 2.130e+02, 2.050e+02, 2.430e+02, 2.510e+02, 2.570e+02,\n",
       "         2.440e+02, 2.250e+02, 1.840e+02, 1.700e+02, 1.370e+02, 9.600e+01,\n",
       "         9.000e+01],\n",
       "        [1.000e+00, 4.000e+00, 1.000e+00, 2.000e+00, 0.000e+00, 6.000e+00,\n",
       "         1.000e+01, 1.700e+01, 4.000e+01, 3.500e+01, 6.700e+01, 8.400e+01,\n",
       "         1.060e+02, 1.160e+02, 1.370e+02, 1.690e+02, 1.640e+02, 1.800e+02,\n",
       "         1.570e+02, 1.580e+02, 1.700e+02, 1.190e+02, 9.800e+01, 8.200e+01,\n",
       "         5.900e+01]]),\n",
       " array([ 3.  ,  3.48,  3.96,  4.44,  4.92,  5.4 ,  5.88,  6.36,  6.84,\n",
       "         7.32,  7.8 ,  8.28,  8.76,  9.24,  9.72, 10.2 , 10.68, 11.16,\n",
       "        11.64, 12.12, 12.6 , 13.08, 13.56, 14.04, 14.52, 15.  ]),\n",
       " array([15.  , 15.56, 16.12, 16.68, 17.24, 17.8 , 18.36, 18.92, 19.48,\n",
       "        20.04, 20.6 , 21.16, 21.72, 22.28, 22.84, 23.4 , 23.96, 24.52,\n",
       "        25.08, 25.64, 26.2 , 26.76, 27.32, 27.88, 28.44, 29.  ]))"
      ]
     },
     "execution_count": 15,
     "metadata": {},
     "output_type": "execute_result"
    }
   ],
   "source": [
    "np.histogram2d(laenge,gewicht, bins=[x_bins, y_bins])"
   ]
  },
  {
   "cell_type": "markdown",
   "metadata": {},
   "source": [
    "Verwenden Sie nun `numpy`'s `meshgrid` Funktion um sich ein Grid von $x$ und $y$ Positionen erzeugen zu lassen. Beachten Sie, dass diese Position im Binmittelpunkt liegen sollten, Sie müssen also ggf. die Werte der Bingrenzen verschieben. Auf diese Weise bekommen Sie zwei zweidimensionale Listen die Sie mit `.ravel()` \"flach machen\" (also in eine 1-dimensionale Liste konvertieren) können. Die Werte entlang der $z$ Achse haben Sie bereits von `histogram2d` erhalten; auch hier müssen Sie die Liste aber noch verflachen."
   ]
  },
  {
   "cell_type": "code",
   "execution_count": null,
   "metadata": {},
   "outputs": [],
   "source": []
  },
  {
   "cell_type": "markdown",
   "metadata": {},
   "source": [
    "Erstellen Sie nun das 3d Histogram indem Sie `ax.bar3d` verwenden und es mit den $x$ und $y$ Positionen sowie den Binbreiten füttern. Für die $z$ Achse können Sie Position `zpos=0` verwenden, wobei die $z$-Werte dann als sechster Parameter übergeben werden."
   ]
  },
  {
   "cell_type": "code",
   "execution_count": null,
   "metadata": {},
   "outputs": [],
   "source": []
  },
  {
   "cell_type": "markdown",
   "metadata": {},
   "source": [
    "Nehmen Sie nun den ganzen Code dieser Teilaufgabe und fassen Sie ihn in einer Funktion `make3dPlot` zusammen, die als Parameter nur die Datenliste aus Teil (b) und 4 Werte für `xmin`, `xmax`, `ymin`, `ymax` verwendet. Anhand dieser 4 Werte können Sie nun das Diagramm beschneiden, d.h. falls `xmin` gegeben ist, sollen nur die Datenpunkte mit $x>x_\\text{min}$ angezeigt werden. Sie müssen dazu Ihren Code anpassen. Es gibt zwei Möglichkeiten: entweder setzen Sie die Werte der Bins im Histogramm gleich 0 oder Sie beschneiden die Daten, zB mit der folgenden Funktion:"
   ]
  },
  {
   "cell_type": "code",
   "execution_count": null,
   "metadata": {},
   "outputs": [],
   "source": [
    "def cutData(xdata, ydata, zdata, xmin=None, xmax=None, ymin=None, ymax=None):\n",
    "    if len(xdata)!=len(ydata) or len(xdata)!=len(zdata): return xdata,ydata,zdata\n",
    "    xnew, ynew, znew = [], [], []\n",
    "    for i in range(len(xdata)):\n",
    "        if xmin and xmin>xdata[i]: continue\n",
    "        if xmax and xmax<xdata[i]: continue\n",
    "        if ymin and ymin>ydata[i]: continue\n",
    "        if ymax and ymax<ydata[i]: continue\n",
    "        xnew.append(xdata[i])\n",
    "        ynew.append(ydata[i])\n",
    "        znew.append(zdata[i])\n",
    "    return xnew, ynew, znew"
   ]
  },
  {
   "cell_type": "code",
   "execution_count": null,
   "metadata": {},
   "outputs": [],
   "source": [
    "def make3dPlot(data, xmin=None, xmax=None, ymin=None, ymax=None):\n",
    "    ## Fügen Sie hier Ihren Code ein...\n"
   ]
  },
  {
   "cell_type": "markdown",
   "metadata": {},
   "source": [
    "Erstellen Sie ein paar Diagramme in denen Sie die mit verschiedenen Schnitt-Parametern experimentieren."
   ]
  },
  {
   "cell_type": "code",
   "execution_count": null,
   "metadata": {},
   "outputs": [],
   "source": []
  }
 ],
 "metadata": {
  "kernelspec": {
   "display_name": "Python 3.10.4 64-bit",
   "language": "python",
   "name": "python3"
  },
  "language_info": {
   "codemirror_mode": {
    "name": "ipython",
    "version": 3
   },
   "file_extension": ".py",
   "mimetype": "text/x-python",
   "name": "python",
   "nbconvert_exporter": "python",
   "pygments_lexer": "ipython3",
   "version": "3.10.4"
  },
  "vscode": {
   "interpreter": {
    "hash": "b460384b52104c1e5b9cf54bee46a255d22b2bef338f75ac4ad5d48196028d3c"
   }
  }
 },
 "nbformat": 4,
 "nbformat_minor": 4
}
