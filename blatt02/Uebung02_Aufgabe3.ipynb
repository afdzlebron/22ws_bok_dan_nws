{
 "cells": [
  {
   "cell_type": "markdown",
   "metadata": {},
   "source": [
    "<font face=\"Times New Roman\" size=\"3\">\n",
    "<hr style=\"width:100%;height:2px;color:black\">\n",
    "<div style=\"width:100%\">\n",
    "    <div style=\"float:left;width:50%\">Albert-Ludwigs-Universität Freiburg</div>\n",
    "    <div style=\"float:left;width:50%;text-align:right\">Wintersemester 2022/23</div> \n",
    "</div>\n",
    "<div style=\"clear:both;text-align:center\">\n",
    "    <h1 style=\"margin-top:20px;padding:0px\">Datenanalyse für Naturwissenschaftler*Innen</h1>\n",
    "    <h2 style=\"margin:5px;padding:0px\">Statistische Methoden in Theorie und Praxis</h2>\n",
    "    Vorlesung: Dr. Andrea Knue<br />\n",
    "    Übungsleitung: Dr. Constantin Heidegger<br />\n",
    "    <h1 style=\"margin:10px;padding:0px\">Übung 2</h1>\n",
    "    Ausgabe: 28. Oktober 2022 10:00 Uhr, Abgabe: 4. November 2022 bis 10:00 Uhr via Ilias\n",
    "</div>\n",
    "<hr style=\"font-family:width:100%;height:2px;color:black\">\n",
    "</font>"
   ]
  },
  {
   "cell_type": "markdown",
   "metadata": {},
   "source": [
    "<font face=\"Times New Roman\" size=3>\n",
    "    <h3 style=\"margin:0px\">Aufgabe 3: Histogramme, Graphen und ein Spiel (9P)</h3>\n",
    "</font>"
   ]
  },
  {
   "cell_type": "markdown",
   "metadata": {},
   "source": [
    "<font face=\"Times New Roman\" size=4>\n",
    "a) Histogramme und Schleifen (2P)\n",
    "</font>"
   ]
  },
  {
   "cell_type": "markdown",
   "metadata": {},
   "source": [
    "Als erstes üben und wiederholen wir Schleifen in Python und die Definition von Histogrammen. Binden Sie dazu als erstes `matplotlib` ein, die Standardbibliothek zum Plotten in Python."
   ]
  },
  {
   "cell_type": "code",
   "execution_count": 106,
   "metadata": {},
   "outputs": [],
   "source": [
    "import matplotlib.pyplot as plt\n",
    "import numpy as np"
   ]
  },
  {
   "cell_type": "markdown",
   "metadata": {},
   "source": [
    "Lassen Sie die ganzen Zahlen von 0 bis 15 am Bildschirm mittels einer `for`-Schleife ausgeben und berechnen Sie die Summe."
   ]
  },
  {
   "cell_type": "code",
   "execution_count": 107,
   "metadata": {},
   "outputs": [
    {
     "name": "stdout",
     "output_type": "stream",
     "text": [
      "0\n",
      "1\n",
      "2\n",
      "3\n",
      "4\n",
      "5\n",
      "6\n",
      "7\n",
      "8\n",
      "9\n",
      "10\n",
      "11\n",
      "12\n",
      "13\n",
      "14\n",
      "15\n",
      "120\n"
     ]
    }
   ],
   "source": [
    "result = 0\n",
    "for i in range(0,16): \n",
    "    print(i)\n",
    "    result += i\n",
    "print(result)"
   ]
  },
  {
   "cell_type": "markdown",
   "metadata": {},
   "source": [
    "Lassen Sie sich nur die ungeraden Zahlen von 0 bis 15 ausgeben. Wenn die Zahl 3 erreicht wird, soll zudem ein zusätzlicher Kommentar auf dem Bildschirm ausgegeben werden (z.B. \"Ich bin bei der drei!\")."
   ]
  },
  {
   "cell_type": "code",
   "execution_count": 108,
   "metadata": {},
   "outputs": [
    {
     "name": "stdout",
     "output_type": "stream",
     "text": [
      "1\n",
      "3 Ich bin bei der drei!\n",
      "5\n",
      "7\n",
      "9\n",
      "11\n",
      "13\n",
      "15\n"
     ]
    }
   ],
   "source": [
    "result = 0\n",
    "for i in range(0,16): \n",
    "    if i % 2 != 0: \n",
    "        if i == 3: \n",
    "            print(i, \"Ich bin bei der drei!\")\n",
    "        else: \n",
    "            print(i)"
   ]
  },
  {
   "cell_type": "markdown",
   "metadata": {},
   "source": [
    "Füllen Sie die ungeraden Zahlen in eine Liste."
   ]
  },
  {
   "cell_type": "code",
   "execution_count": 109,
   "metadata": {},
   "outputs": [
    {
     "data": {
      "text/plain": [
       "[1, 3, 5, 7, 9, 11, 13, 15]"
      ]
     },
     "execution_count": 109,
     "metadata": {},
     "output_type": "execute_result"
    }
   ],
   "source": [
    "l = [i for i in range(0,16) if i % 2 != 0]\n",
    "l"
   ]
  },
  {
   "cell_type": "markdown",
   "metadata": {},
   "source": [
    "Erstellen Sie ein Histogramm mit 16 Bins zwischen −0,5 und 15,5, füllen Sie alle ungerade Zahlen ein und zeichnen es auf dem Bildschirm. Warum wurden hier halbzahlige Grenzen gewählt?"
   ]
  },
  {
   "cell_type": "code",
   "execution_count": 110,
   "metadata": {},
   "outputs": [
    {
     "data": {
      "text/plain": [
       "Text(0.5, 0, 'Data')"
      ]
     },
     "execution_count": 110,
     "metadata": {},
     "output_type": "execute_result"
    },
    {
     "data": {
      "image/png": "[encoded data removed]",
      "text/plain": [
       "<Figure size 432x288 with 1 Axes>"
      ]
     },
     "metadata": {
      "needs_background": "light"
     },
     "output_type": "display_data"
    }
   ],
   "source": [
    "plt.hist(l, bins=16, range=[-0.5,15.5]) \n",
    "plt.ylabel('Frequency')\n",
    "plt.xlabel('Data')\n",
    "\n",
    "# Die Anzahl von Elemente einer Liste zwischen −0,5 und 15,5 beträgt 16. "
   ]
  },
  {
   "cell_type": "markdown",
   "metadata": {},
   "source": [
    "<font face=\"Times New Roman\" size=4>\n",
    "b) Funktionen und Diagramme (2P)\n",
    "</font>"
   ]
  },
  {
   "cell_type": "markdown",
   "metadata": {},
   "source": [
    "Definieren Sie eine Funktion `func` die für eine Variable $x$ das Resultat $x^2+4$ zurückgibt."
   ]
  },
  {
   "cell_type": "code",
   "execution_count": 111,
   "metadata": {},
   "outputs": [],
   "source": [
    "def func(x: int|float):\n",
    "    return x**2+4"
   ]
  },
  {
   "cell_type": "markdown",
   "metadata": {},
   "source": [
    "Kreieren Sie nun eine Liste von $-5$ bis $+5$ in Schritten von $0.5$"
   ]
  },
  {
   "cell_type": "code",
   "execution_count": 112,
   "metadata": {},
   "outputs": [
    {
     "data": {
      "text/plain": [
       "[-5.0,\n",
       " -4.5,\n",
       " -4.0,\n",
       " -3.5,\n",
       " -3.0,\n",
       " -2.5,\n",
       " -2.0,\n",
       " -1.5,\n",
       " -1.0,\n",
       " -0.5,\n",
       " 0.0,\n",
       " 0.5,\n",
       " 1.0,\n",
       " 1.5,\n",
       " 2.0,\n",
       " 2.5,\n",
       " 3.0,\n",
       " 3.5,\n",
       " 4.0,\n",
       " 4.5,\n",
       " 5.0]"
      ]
     },
     "execution_count": 112,
     "metadata": {},
     "output_type": "execute_result"
    }
   ],
   "source": [
    "l = [i for i in np.arange(-5, 5.5, 0.5)]\n",
    "l"
   ]
  },
  {
   "cell_type": "markdown",
   "metadata": {},
   "source": [
    "Plotten Sie nun die Funktion in einem Diagramm. Verwenden Sie dazu die Liste, die Sie gerade erzeugt haben. Fügen Sie eine sinnvolle Achsenbezeichnung bei."
   ]
  },
  {
   "cell_type": "code",
   "execution_count": 113,
   "metadata": {},
   "outputs": [
    {
     "data": {
      "text/plain": [
       "Text(0, 0.5, 'func(x) := x**2 + 4')"
      ]
     },
     "execution_count": 113,
     "metadata": {},
     "output_type": "execute_result"
    },
    {
     "data": {
      "image/png": "[encoded data removed]",
      "text/plain": [
       "<Figure size 432x288 with 1 Axes>"
      ]
     },
     "metadata": {
      "needs_background": "light"
     },
     "output_type": "display_data"
    }
   ],
   "source": [
    "ll = [func(i) for i in l]\n",
    "plt.plot(l, ll)\n",
    "plt.title(\"Ploting, Ploting, ....\")\n",
    "plt.xlabel(\"Werte von -5 bis 5\")\n",
    "plt.ylabel(\"func(x) := x**2 + 4\")"
   ]
  },
  {
   "cell_type": "markdown",
   "metadata": {},
   "source": [
    "<font face=\"Times New Roman\" size=4>\n",
    "c) Wechseln oder nicht - simuliert! (5P)\n",
    "</font>"
   ]
  },
  {
   "cell_type": "markdown",
   "metadata": {},
   "source": [
    "Erinnern wir uns an das letzte Übungsblatt.\n",
    "\n",
    "In einer Spielshow gibt es drei Türen. Hinter einer Tür wartet ein Gewinn, hinter den anderen Türen befinden sich Nieten. Nachdem eine der Kandidat*Innen eine Tür gewählt hat, wird eine der anderen Türen geöffnet, hinter der sich eine Niete befindet. Nun darf erneut eine der übrigen Türen gewählt werden.\n",
    "\n",
    "Es gibt verschiedene Ansätze, wie man das Spiel simuliert. Da das Spiel mehrmals durchgeführt wird, soll das Problem erstmal in kleinere Abschnitte eingeteilt werden.\n",
    "\n",
    "Die Türen sollen durch die Zahlen 0, 1 und 2 dargestellt werden. Um Zufallszahlen zu ziehen verwenden wir die `randrange` Funktion von `random` Package, was wir in nachfolgender Weise einbetten:"
   ]
  },
  {
   "cell_type": "code",
   "execution_count": 114,
   "metadata": {},
   "outputs": [],
   "source": [
    "from random import randrange\n",
    "Preis = randrange(0,3)"
   ]
  },
  {
   "cell_type": "markdown",
   "metadata": {},
   "source": [
    "Beachten Sie, dass `randrange` der Standard-Funktion `range` nachempfunden ist, z.B. `range(4)=0,1,2,3`."
   ]
  },
  {
   "cell_type": "markdown",
   "metadata": {},
   "source": [
    "i) Schreiben Sie zunächst eine Funktion `auswahl()`, die eine zufällig ausgewählte Tür zurückgeben soll (eine Zahl von 0-2), wobei eine (oder mehrere) Türen von der Ziehung ausgeschlossen werden können sollen. Die Anforderungen an die Funktion sind daher:\n",
    "* Ein Liste von nicht-erlaubten Zahlen `nichterlaubt` und der Bereich `bereich`, der als Parameter für `randrange` übergeben werden soll. \n",
    "* Eine Zufallszahl soll solange gezogen werden, bis die gezogene Zahl nicht in der Liste ist. (Oder anders formuliert: Zunächst wird eine Zufallszahl gewählt. Falls die Zufallszahl in der Liste der nicht-erlaubten Zahlen ist, soll eine neue Zufallszahl gewählt werden.)"
   ]
  },
  {
   "cell_type": "code",
   "execution_count": 115,
   "metadata": {},
   "outputs": [],
   "source": [
    "def auswahl(nichterlaubt = set(), bereich = 0): \n",
    "    done = False\n",
    "    while not done: \n",
    "        aw = randrange(bereich)\n",
    "        if aw not in nichterlaubt:\n",
    "            done = True\n",
    "            return aw\n",
    "        else: \n",
    "            continue"
   ]
  },
  {
   "cell_type": "code",
   "execution_count": 116,
   "metadata": {},
   "outputs": [],
   "source": [
    "# Alternative (verwendet in spiel() sowie spielen()!)\n",
    "def auswahl02(nichterlaubt:set = set(), bereich: int = 0): \n",
    "    \"\"\"\n",
    "    returns: random element from a range bounded by a value\n",
    "    Parameters: \n",
    "        # 1. nichterlaubt: set\n",
    "        # 2. bereich: int\n",
    "    \"\"\"\n",
    "    aw = randrange(bereich)\n",
    "    while aw in nichterlaubt: \n",
    "        aw = randrange(bereich)\n",
    "    return aw\n"
   ]
  },
  {
   "cell_type": "markdown",
   "metadata": {},
   "source": [
    "ii) Nun kann das Spiel simuliert werden. Dazu eignet sich wieder eine Funktion, in der man angeben kann, welche Strategie verfolgt werden soll (0=bleibt bei seiner Wahl, 1=wechselt immer). \n",
    "Praktischerweise soll die Funktion noch zwei weitere Parameter haben: einen Zufallsgenerator `zufallsgen` und einen Parameter `verbose`, der angeben soll, ob Meldungen ausgegeben werden sollen, oder nicht. Der default Wert soll `True` sein für `verbose`.\n",
    "\n",
    "   * Das Spiel beginnt damit, dass zunächst eine Gewinn-Tür `gewinnTuer` ausgewählt wird. \n",
    "   * Dann wird eine Tür durch die/den Spieler/in in der Variable `spielerinTuer` ausgewählt.\n",
    "   * Der/Die Moderator/in wählt eine Tür, die geöffnet wird. Diese wird in der Variable `moderatorinTuer` gespeichert. Natürlich muss man die Gewinn-Tür und die Spieler/in-Tür von der Auswahl ausschliessen.\n",
    "   * Je nach Strategie passiert nichts oder die/der Spieler/in wählt eine neue Tür, die jetzige Spieler/in-Tür und die Moderator/in-Tür wird ausgeschlossen. (Hinweis: `if`, `else`.)\n",
    "   * Am Ende soll überprüft werden, ob die aktuelle Spieler/in-Tür der Gewinner-Tür entspricht. Es soll dann `True` oder `False` zurückgegeben werden.\n",
    "\n",
    "Damit nachvollziehbar ist, was passiert, soll nach wichtigen Schritten eine kurze Bildschirmausgabe folgen. Diese benutzen dann das Argument `verbose`:\n",
    "```python\n",
    "if verbose:\n",
    "    print(\"Jetzt passiert hier was\")\n",
    "```"
   ]
  },
  {
   "cell_type": "code",
   "execution_count": 117,
   "metadata": {},
   "outputs": [
    {
     "data": {
      "text/plain": [
       "False"
      ]
     },
     "execution_count": 117,
     "metadata": {},
     "output_type": "execute_result"
    }
   ],
   "source": [
    "def spiel(strategie:int=0, bereich:int=3, verbose:bool=True): \n",
    "    \"\"\" \n",
    "    returns: True or False\n",
    "\n",
    "    Parameters: \n",
    "        # 1. strategie: int\n",
    "            Mit Wechsel (MW = 1) oder ohne (OW = 0) beim 2. Chance nach Öffnung der Tür\n",
    "            OW (default)\n",
    "            MW (optional) \n",
    "        # 2. bereich: int \n",
    "            Anzahl der Tür-Optionen \n",
    "        # 3. verbose: bool\n",
    "            Erläuterung der Schritte urch ausgegebene Strings\n",
    "    \"\"\"\n",
    "    # For now just default value\n",
    "    nichterlaubt = set()\n",
    "    gewinnTuer = auswahl02(nichterlaubt, bereich)\n",
    "    if verbose == True:\n",
    "        print(f\"Tür {gewinnTuer} als Gewinntür ausgewählt\")\n",
    "        nichterlaubt.add(gewinnTuer)\n",
    "\n",
    "    # Spielerin-Tür\n",
    "    spielerinTuer = auswahl02({}, bereich)\n",
    "    if verbose == True:\n",
    "        print(f\"Tür {spielerinTuer} als Spielerintür ausgewählt\")\n",
    "    nichterlaubt.add(spielerinTuer)\n",
    "\n",
    "    # geöffnete Tür\n",
    "    moderatorinTuer = auswahl02(nichterlaubt, bereich)\n",
    "    if verbose == True:\n",
    "        print(f\"Tür {moderatorinTuer} als Moderatorintür ausgewählt\")\n",
    "    nichterlaubt.add(moderatorinTuer)\n",
    "\n",
    "    if strategie == 1:\n",
    "        if gewinnTuer in nichterlaubt: \n",
    "            nichterlaubt.remove(gewinnTuer)\n",
    "        spielerinTuer = auswahl02(nichterlaubt, bereich)\n",
    "        if verbose == True:\n",
    "            print(f\"Spielerin wechselt zu Tür {spielerinTuer}\")\n",
    "\n",
    "    if spielerinTuer == gewinnTuer: \n",
    "        match verbose:\n",
    "            case True:\n",
    "                print(\n",
    "                    f\"Gewinn-Tür {gewinnTuer} == Spielerin-Tür {spielerinTuer} Spielerin gewann.\")\n",
    "                return True\n",
    "            case False:\n",
    "                return True\n",
    "    elif spielerinTuer != gewinnTuer: \n",
    "        match verbose:\n",
    "            case True:\n",
    "                print(f\"Gewinn-Tür {gewinnTuer} != Spielerin-Tür {spielerinTuer} -> Spielerin verlor.\")\n",
    "                return False\n",
    "            case False: \n",
    "                return False\n",
    "    #nichterlaubt.clear()\n",
    "\n",
    "\n",
    "spiel(1, 3, False)"
   ]
  },
  {
   "cell_type": "markdown",
   "metadata": {},
   "source": [
    "iii) Jetzt soll das Spiel mehrfach ausgeführt werden und der Anteil der gewonnenen Spiele gegen die Anzahl der Spiele in einem Diagramm aufgetragen werden. Praktischerweise kann man das wieder als Funktion programmieren. Eingangsparameter dieser Funktion sind: Die Anzahl der Spiele `anzahl`, eine Zahl für den Bereich `bereich`, eine Zahl für die Strategie `strategie` und wieder `verbose`. Es soll ein `TGraph` und der Anteil der gewonnenen Spiele zurückgegeben werden. Die Funktion soll folgendermassen funktionieren:\n",
    "   * Bauen Sie iene Schleife die `anzahl` Iterationen durchführt.\n",
    "   * Definieren Sie eine (float) Variable `gewinnAnteil` als laufenden Durchschnitt der gewonnenen Spiele.\n",
    "   * In der Schleife der Spiele führen Sie die Funktion `spiel()` aus und übergeben Sie die passenden Argumente. Denken Sie daran, dass Sie Ergebnis speichern müssen: `ergebnis=spiel()`\n",
    "   * Wenn Sie nun mit `int(ergebnis)` das Ergebnis in eine Zahl umwandeln, so ergibt sich `1` für einen Gewinn, sonst erhalten Sie `0`.\n",
    "   * Der Durchschnitt lässt sich mit der Rekursionsformel bei einer Stichprobe der Grösse `N` berechnen:\n",
    "   $$ \\bar{x}_N = \\bar{x}_{N-1} + \\frac{x_n-\\bar{x}_{N-1}}{N} $$\n",
    "   * Tragen Sie die aktuelle Anzahl der Spieliterationen und den aktuellen Gewinn-Anteil in zwei Listen ein, `pointsx` und `pointsy`.\n",
    "   * Aus diesen zwei Listen, erstellen Sie ein Diagramm und benennen Sie die $x$ und $y$ Achsen richtig.\n",
    "   * Geben Sie wieder einige Informationen nach jedem Spiel aus, wenn `verbose` gesetzt (=wahr) ist.\n",
    "   * Geben Sie den Plot und den Gewinn-Anteil zurück."
   ]
  },
  {
   "cell_type": "code",
   "execution_count": 118,
   "metadata": {},
   "outputs": [],
   "source": [
    "def mean(a: list):  \n",
    "    \"\"\" \n",
    "    returns: running average (mean)\n",
    "    Parameters: \n",
    "        a: list\n",
    "    \"\"\"\n",
    "    if len(a) == 1:  \n",
    "        return a[0]  \n",
    "    else:  \n",
    "        n = len(a)\n",
    "        return (a[0] + (n - 1) * mean(a[1:])) / n  "
   ]
  },
  {
   "cell_type": "code",
   "execution_count": 119,
   "metadata": {},
   "outputs": [
    {
     "name": "stdout",
     "output_type": "stream",
     "text": [
      "Tür 1 als Gewinntür ausgewählt\n",
      "Tür 2 als Spielerintür ausgewählt\n",
      "Tür 0 als Moderatorintür ausgewählt\n",
      "Spielerin wechselt zu Tür 1\n",
      "Gewinn-Tür 1 == Spielerin-Tür 1 Spielerin gewann.\n",
      "Tür 2 als Gewinntür ausgewählt\n",
      "Tür 2 als Spielerintür ausgewählt\n",
      "Tür 1 als Moderatorintür ausgewählt\n",
      "Spielerin wechselt zu Tür 2\n",
      "Gewinn-Tür 2 == Spielerin-Tür 2 Spielerin gewann.\n",
      "Tür 1 als Gewinntür ausgewählt\n",
      "Tür 1 als Spielerintür ausgewählt\n",
      "Tür 2 als Moderatorintür ausgewählt\n",
      "Spielerin wechselt zu Tür 1\n",
      "Gewinn-Tür 1 == Spielerin-Tür 1 Spielerin gewann.\n",
      "Tür 2 als Gewinntür ausgewählt\n",
      "Tür 1 als Spielerintür ausgewählt\n",
      "Tür 0 als Moderatorintür ausgewählt\n",
      "Spielerin wechselt zu Tür 2\n",
      "Gewinn-Tür 2 == Spielerin-Tür 2 Spielerin gewann.\n",
      "Tür 2 als Gewinntür ausgewählt\n",
      "Tür 2 als Spielerintür ausgewählt\n",
      "Tür 1 als Moderatorintür ausgewählt\n",
      "Spielerin wechselt zu Tür 0\n",
      "Gewinn-Tür 2 != Spielerin-Tür 0 -> Spielerin verlor.\n",
      "Tür 1 als Gewinntür ausgewählt\n",
      "Tür 0 als Spielerintür ausgewählt\n",
      "Tür 2 als Moderatorintür ausgewählt\n",
      "Spielerin wechselt zu Tür 1\n",
      "Gewinn-Tür 1 == Spielerin-Tür 1 Spielerin gewann.\n",
      "Tür 0 als Gewinntür ausgewählt\n",
      "Tür 2 als Spielerintür ausgewählt\n",
      "Tür 1 als Moderatorintür ausgewählt\n",
      "Spielerin wechselt zu Tür 0\n",
      "Gewinn-Tür 0 == Spielerin-Tür 0 Spielerin gewann.\n",
      "Tür 0 als Gewinntür ausgewählt\n",
      "Tür 2 als Spielerintür ausgewählt\n",
      "Tür 1 als Moderatorintür ausgewählt\n",
      "Spielerin wechselt zu Tür 0\n",
      "Gewinn-Tür 0 == Spielerin-Tür 0 Spielerin gewann.\n",
      "Tür 2 als Gewinntür ausgewählt\n",
      "Tür 1 als Spielerintür ausgewählt\n",
      "Tür 0 als Moderatorintür ausgewählt\n",
      "Spielerin wechselt zu Tür 2\n",
      "Gewinn-Tür 2 == Spielerin-Tür 2 Spielerin gewann.\n",
      "Tür 0 als Gewinntür ausgewählt\n",
      "Tür 2 als Spielerintür ausgewählt\n",
      "Tür 1 als Moderatorintür ausgewählt\n",
      "Spielerin wechselt zu Tür 0\n",
      "Gewinn-Tür 0 == Spielerin-Tür 0 Spielerin gewann.\n"
     ]
    },
    {
     "data": {
      "text/plain": [
       "('Gewonnen: 9 aus 10 Spiele bzw. 90 % gewonnen',\n",
       " [<matplotlib.lines.Line2D at 0x11da0c0a0>])"
      ]
     },
     "execution_count": 119,
     "metadata": {},
     "output_type": "execute_result"
    },
    {
     "data": {
      "image/png": "[encoded data removed]",
      "text/plain": [
       "<Figure size 432x288 with 1 Axes>"
      ]
     },
     "metadata": {
      "needs_background": "light"
     },
     "output_type": "display_data"
    }
   ],
   "source": [
    "def spielen(anzahl=10, bereich=3, strategie=1, verbose=True):\n",
    "    \"\"\" \n",
    "    ## returns: \n",
    "        * str with results \n",
    "        * plot\n",
    "    ## Parameters: \n",
    "    ### 1. anzahl: int\n",
    "            Anzahl von iterierten Spielen\n",
    "    ### 2. bereich: int\n",
    "            Obergrenze der Auswahlmöglichkeiten\n",
    "    ### 3. strategie: int\n",
    "        Mit Wechsel (MW = 1) oder ohne (OW = 0) beim 2. Chance nach Öffnung der Tür\n",
    "            OW (Optional)\n",
    "            MW (defalt)\n",
    "    ### 4. verbose: bool\n",
    "        Erläuterung der Schritte durch ausgegebene Strings\n",
    "    \"\"\"\n",
    "    GewinnAnteil = []\n",
    "    Results = []\n",
    "    Nr_Games = []\n",
    "    Wins = 0\n",
    "    for i in range(1,anzahl+1):\n",
    "        Nr_Games.append(i)\n",
    "        result = int(spiel(strategie,bereich,verbose))\n",
    "        Wins += result\n",
    "        Results.append(result)\n",
    "        GewinnAnteil.append(mean(Results))\n",
    "    \n",
    "    anteil = f\"Gewonnen: {Wins} aus {anzahl} Spiele bzw. {round((Wins/anzahl)*100)} % gewonnen\"\n",
    "    p = plt.plot(Nr_Games,GewinnAnteil)\n",
    "    plt.xlabel(\"Amount of iterated games\"), plt.ylabel(\"Amount of wins\")\n",
    "    \n",
    "    return anteil, p\n",
    "        \n",
    "spielen()"
   ]
  },
  {
   "cell_type": "markdown",
   "metadata": {},
   "source": [
    "iv) Folgende Zeilen sollen als Beispiel dienen, wie eine Reihe von Spielen durch geführt werden soll und wie das Ergebnis dargestellt werden soll (Achtung, die Zeilen funktionieren nur, wenn Sie die obigen Funktionen korrekt definiert haben):"
   ]
  },
  {
   "cell_type": "code",
   "execution_count": 120,
   "metadata": {},
   "outputs": [
    {
     "data": {
      "text/plain": [
       "('Gewonnen: 656 aus 1000 Spiele bzw. 66 % gewonnen',\n",
       " [<matplotlib.lines.Line2D at 0x11db0e2c0>])"
      ]
     },
     "execution_count": 120,
     "metadata": {},
     "output_type": "execute_result"
    },
    {
     "data": {
      "image/png": "[encoded data removed]",
      "text/plain": [
       "<Figure size 432x288 with 1 Axes>"
      ]
     },
     "metadata": {
      "needs_background": "light"
     },
     "output_type": "display_data"
    }
   ],
   "source": [
    "spielen (1000, 3, 1, False)"
   ]
  },
  {
   "cell_type": "code",
   "execution_count": 121,
   "metadata": {},
   "outputs": [
    {
     "data": {
      "text/plain": [
       "'Gewonnen: 664 aus 1000 Spiele bzw. 66 % gewonnen'"
      ]
     },
     "execution_count": 121,
     "metadata": {},
     "output_type": "execute_result"
    },
    {
     "data": {
      "image/png": "[encoded data removed]",
      "text/plain": [
       "<Figure size 432x288 with 1 Axes>"
      ]
     },
     "metadata": {
      "needs_background": "light"
     },
     "output_type": "display_data"
    }
   ],
   "source": [
    "anteil, p = spielen (1000, 3, 1, False)\n",
    "anteil"
   ]
  },
  {
   "cell_type": "markdown",
   "metadata": {},
   "source": [
    "v) Probieren Sie nun einige Spiele aus, bei der Sie die Anzahl der Spiele und die Strategie variieren. Vergessen Sie dabei nicht, `verbose=False` zu stellen. \n",
    "\n",
    "   * **Was beobachten Sie am Diagramm und am Durchschnitt, wenn Sie nur wenige Spiele durchführen? Können Sie zwischen den beiden Strategien unterscheiden?**\n",
    "   * **Was passiert, wenn Sie nun die Anzahl der Spiele groß wählen?**\n",
    "   \n",
    "Schreiben Sie bitte die Antworten auf die obigen Fragen auch in das Notebook. "
   ]
  },
  {
   "cell_type": "markdown",
   "metadata": {},
   "source": [
    "### Antwort auf Aufgabe 3 b) v)\n",
    "\n",
    "* Bei dem Diagramm mit einer kleinen Anzahl von Spiele: \n",
    "    * die OW-Strategie immer hat immer wieder bis zum 50 % gewonnent. \n",
    "    * der Unterschied zw. der OW- und der MW-Strategie nicht so deutlich ist.\n",
    "* Bei dem Diagramm mit einer größen Anzahl von Spiele:\n",
    "    * Je größer die Spielanzahl ist, desto auffälliger ist der Unterschied zw. der MW- und der OW-Strategie, weil der Gewinnanteil deutlich unterschiedlich wird. \n",
    "    * Gewinnen durch die Anwendung der MW-Strategie ist mindestens doppelt so hoch als die Anwendung der OW-Strategie. "
   ]
  },
  {
   "cell_type": "code",
   "execution_count": 122,
   "metadata": {},
   "outputs": [
    {
     "name": "stdout",
     "output_type": "stream",
     "text": [
      "MW-Strategie:  ('Gewonnen: 2 aus 4 Spiele bzw. 50 % gewonnen', [<matplotlib.lines.Line2D object at 0x11daf1060>])\n",
      "OW-Strategie:  ('Gewonnen: 2 aus 4 Spiele bzw. 50 % gewonnen', [<matplotlib.lines.Line2D object at 0x11daf0640>])\n"
     ]
    },
    {
     "data": {
      "image/png": "[encoded data removed]",
      "text/plain": [
       "<Figure size 432x288 with 1 Axes>"
      ]
     },
     "metadata": {
      "needs_background": "light"
     },
     "output_type": "display_data"
    }
   ],
   "source": [
    "## Wenige Spiele (n=4) \n",
    "## MW-Strategie\n",
    "print(\"MW-Strategie: \", spielen(4, 3, 1, False))\n",
    "## OW-Strategie\n",
    "print(\"OW-Strategie: \",spielen(4, 3, 0, False))\n"
   ]
  },
  {
   "cell_type": "code",
   "execution_count": 123,
   "metadata": {},
   "outputs": [
    {
     "name": "stdout",
     "output_type": "stream",
     "text": [
      "MW-Strategie:  ('Gewonnen: 670 aus 1000 Spiele bzw. 67 % gewonnen', [<matplotlib.lines.Line2D object at 0x11da92800>])\n",
      "OW-Strategie:  ('Gewonnen: 329 aus 1000 Spiele bzw. 33 % gewonnen', [<matplotlib.lines.Line2D object at 0x11db3ed70>])\n"
     ]
    },
    {
     "data": {
      "image/png": "[encoded data removed]",
      "text/plain": [
       "<Figure size 432x288 with 1 Axes>"
      ]
     },
     "metadata": {
      "needs_background": "light"
     },
     "output_type": "display_data"
    }
   ],
   "source": [
    "## Viele Spiele (n=100) \n",
    "## MW-Strategie\n",
    "print(\"MW-Strategie: \", spielen(1000, 3, 1, False))\n",
    "## OW-Strategie\n",
    "print(\"OW-Strategie: \",spielen(1000, 3, 0, False))"
   ]
  }
 ],
 "metadata": {
  "kernelspec": {
   "display_name": "Python 3.10.4 64-bit",
   "language": "python",
   "name": "python3"
  },
  "language_info": {
   "codemirror_mode": {
    "name": "ipython",
    "version": 3
   },
   "file_extension": ".py",
   "mimetype": "text/x-python",
   "name": "python",
   "nbconvert_exporter": "python",
   "pygments_lexer": "ipython3",
   "version": "3.10.4"
  },
  "vscode": {
   "interpreter": {
    "hash": "b460384b52104c1e5b9cf54bee46a255d22b2bef338f75ac4ad5d48196028d3c"
   }
  }
 },
 "nbformat": 4,
 "nbformat_minor": 4
}
