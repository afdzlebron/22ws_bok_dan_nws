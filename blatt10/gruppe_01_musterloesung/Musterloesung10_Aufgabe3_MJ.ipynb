{
 "cells": [
  {
   "cell_type": "markdown",
   "metadata": {},
   "source": [
    "<font face=\"Times New Roman\" size=\"3\">\n",
    "<hr style=\"width:100%;height:2px;color:black\">\n",
    "<div style=\"width:100%\">\n",
    "    <div style=\"float:left;width:50%\">Albert-Ludwigs-Universität Freiburg</div>\n",
    "    <div style=\"float:left;width:50%;text-align:right\">Wintersemester 2022/23</div> \n",
    "</div>\n",
    "<div style=\"clear:both;text-align:center\">\n",
    "    <h1 style=\"margin-top:20px;padding:0px\">Datenanalyse für Naturwissenschaftler*Innen</h1>\n",
    "    <h2 style=\"margin:5px;padding:0px\">Statistische Methoden in Theorie und Praxis</h2>\n",
    "    Vorlesung: Dr. Andrea Knue<br />\n",
    "    Übungsleitung: Dr. Constantin Heidegger<br />\n",
    "    <h1 style=\"margin:10px;padding:0px\">Musterlösung 10</h1>\n",
    "    Ausgabe: 13. Januar 2023 10:00 Uhr, Abgabe: 20. Januar 2023 bis 10:00 Uhr via Ilias\n",
    "</div>\n",
    "<hr style=\"font-family:width:100%;height:2px;color:black\">\n",
    "</font>"
   ]
  },
  {
   "cell_type": "markdown",
   "metadata": {},
   "source": [
    "<font face=\"Times New Roman\" size=3>\n",
    "    <h3 style=\"margin:0px\">Aufgabe 3: Monte-Carlo Methode zur Ermittlung von Bias und\n",
    "Varianz (12P)</h3>\n",
    "</font>"
   ]
  },
  {
   "cell_type": "markdown",
   "metadata": {},
   "source": [
    "Oft können Bias und Varianz einer Anpassungsmethode nicht analytisch bestimmt werden. Deswegen muss man auf die Monte-Carlo-Methode zurückgreifen, um eine Aussage über diese beiden Grössen treffen zu können.\n",
    "Dabei gibt es verschiedene Möglichkeiten, eine Anpassung mit Histogrammen durchzuführen, z.B.:\n",
    "   * Erweiterte gebinnte Maximum-Likelihood Anpassung (Extended binned maximum likelihood)\n",
    "   * Gebinnte Anpassung mit der Methode der kleinsten Quadrate (Binned least square method)\n",
    "   \n",
    "Im folgenden sollen der Bias und die Varianz dieser beiden Anpassungsmethoden zur Ermittlung des Zerfallsparameters einer Exponentialfunktion untersucht und verglichen werden."
   ]
  },
  {
   "cell_type": "code",
   "execution_count": 1,
   "metadata": {},
   "outputs": [],
   "source": [
    "import matplotlib.pyplot as plt\n",
    "import numpy as np\n",
    "import scipy.optimize as opt\n",
    "import scipy.stats as stat\n",
    "import math"
   ]
  },
  {
   "cell_type": "code",
   "execution_count": 2,
   "metadata": {},
   "outputs": [],
   "source": [
    "## von Übungsblatt 5:\n",
    "def listOfBins(xmin, xmax, nbins):\n",
    "    return [xmin+(xmax-xmin)/nbins*i for i in range(nbins+1)] ## +1 since we need the upper bound as well"
   ]
  },
  {
   "cell_type": "code",
   "execution_count": 3,
   "metadata": {},
   "outputs": [],
   "source": [
    "# von Übungsblatt 8:\n",
    "def createData(l, n):\n",
    "    return np.random.exponential(1/l, n)"
   ]
  },
  {
   "cell_type": "markdown",
   "metadata": {},
   "source": [
    "<font face=\"Times New Roman\" size=4>\n",
    "a) Erzeugung und Darstellung der Pseudo-Daten (1P)\n",
    "</font>"
   ]
  },
  {
   "cell_type": "markdown",
   "metadata": {},
   "source": [
    "Zuerst müssen wir so wie in den vorangegangenen Übungsblättern wieder die Pseudo-Daten erzeugen. Erstellen Sie also eine Liste von exponentialverteilten Zufallszahlen mit einer Stichprobengröße von 1000 und $\\lambda=1/2$. Stellen Sie die Verteilung graphisch in einem `matplotlib` Histogramm dar, und lassen Sie sich die Binhöhen und -grenzen zurückgeben. Verwenden Sie den Seed 8743 um Ihre Ergebnisse reproduzierbar zu machen."
   ]
  },
  {
   "cell_type": "code",
   "execution_count": 4,
   "metadata": {},
   "outputs": [],
   "source": [
    "# passe createData an um auch den Seed zu verwenden\n",
    "def createData(l, n, seed):\n",
    "    np.random.seed(seed)\n",
    "    return np.random.exponential(1/l, n)"
   ]
  },
  {
   "cell_type": "code",
   "execution_count": 5,
   "metadata": {},
   "outputs": [
    {
     "data": {
      "image/png": "[encoded data removed]",
      "text/plain": [
       "<Figure size 432x288 with 1 Axes>"
      ]
     },
     "metadata": {
      "needs_background": "light"
     },
     "output_type": "display_data"
    }
   ],
   "source": [
    "lamb = 0.5\n",
    "b = listOfBins(0,10,10)\n",
    "\n",
    "def plotHistExpData(l, n=1000, seed=8743, plot=False):\n",
    "    data = createData(l, n, seed)\n",
    "    bins = listOfBins(0,10,10)\n",
    "    # bins can be given as a string, \n",
    "    # it is one of the binning strategies supported\n",
    "    # by numpy.histogram_bin_edges: \n",
    "    # 'auto', 'fd', 'doane', 'scott', 'stone', 'rice', 'sturges', or 'sqrt'.\n",
    "    # plt.hist(data, bins=\"fd\", density=False, alpha=0.5)\n",
    "    \n",
    "    h, bins, patches = plt.hist(data, bins=bins, \n",
    "                                density=False, alpha=0.5)\n",
    "    if plot:\n",
    "        plt.xlabel('t')\n",
    "        plt.ylabel('Anzahl')\n",
    "        plt.title(f'Exponential Verteilung $\\lambda={l}$')\n",
    "        plt.show()\n",
    "    return data, h, bins\n",
    "\n",
    "data, bin_height, bins = plotHistExpData(lamb, plot=True)\n"
   ]
  },
  {
   "cell_type": "markdown",
   "metadata": {},
   "source": [
    "<font face=\"Times New Roman\" size=4>\n",
    "b) Gebinnte Maximum-Likelihood Schätzung (2P)\n",
    "</font>"
   ]
  },
  {
   "cell_type": "markdown",
   "metadata": {},
   "source": [
    "Führen Sie als erste Abschätzung von $\\hat{\\lambda}$ die Maximum-Likelihood Methode für das Histogramm durch. Siehe Übungsblatt 9."
   ]
  },
  {
   "cell_type": "code",
   "execution_count": 6,
   "metadata": {},
   "outputs": [],
   "source": [
    "bin_width = bins[1] - bins[0] # Binbreite\n",
    "bin_middle = bins[:-1] + bin_width/2 #Binmitte\n"
   ]
  },
  {
   "cell_type": "code",
   "execution_count": 7,
   "metadata": {},
   "outputs": [],
   "source": [
    "def expFunc(x, lamb, bin_height):\n",
    "    bin_width = x[1] - x[0]\n",
    "    hist_integral = np.sum(bin_height) * bin_width\n",
    "    return hist_integral * lamb * np.exp(-lamb*x)\n",
    "\n",
    "\n",
    "def negloglik_binned(lamb, bin_middle, bin_height):\n",
    "    return -np.sum(bin_height * np.log(\\\n",
    "            expFunc(bin_middle, lamb, bin_height)))\n"
   ]
  },
  {
   "cell_type": "code",
   "execution_count": 8,
   "metadata": {},
   "outputs": [
    {
     "name": "stdout",
     "output_type": "stream",
     "text": [
      "-5237.718778633688\n"
     ]
    }
   ],
   "source": [
    "print(negloglik_binned(lamb, bin_middle, bin_height))\n"
   ]
  },
  {
   "cell_type": "code",
   "execution_count": 9,
   "metadata": {},
   "outputs": [
    {
     "name": "stdout",
     "output_type": "stream",
     "text": [
      "      fun: -5238.618129217611\n",
      " hess_inv: array([[0.00028093]])\n",
      "      jac: array([0.])\n",
      "  message: 'Optimization terminated successfully.'\n",
      "     nfev: 30\n",
      "      nit: 7\n",
      "     njev: 15\n",
      "   status: 0\n",
      "  success: True\n",
      "        x: array([0.52185292])\n"
     ]
    }
   ],
   "source": [
    "nll_result = opt.minimize(negloglik_binned, # die zu minimierende Funktion\n",
    "                        x0 = (0.3),          # Startwert für lambda\n",
    "                        args = (bin_middle, \n",
    "                                bin_height),\n",
    "                        )\n",
    "print(nll_result)\n"
   ]
  },
  {
   "cell_type": "code",
   "execution_count": 10,
   "metadata": {},
   "outputs": [
    {
     "name": "stdout",
     "output_type": "stream",
     "text": [
      "neg log likelihood lambda hat = [0.52185292]\n"
     ]
    }
   ],
   "source": [
    "print(f\"neg log likelihood lambda hat = {nll_result.x}\")"
   ]
  },
  {
   "cell_type": "markdown",
   "metadata": {},
   "source": [
    "<font face=\"Times New Roman\" size=4>\n",
    "c) Gebinnte Schätzung mit der Methode der kleinsten Quadrate (5P)\n",
    "</font>"
   ]
  },
  {
   "cell_type": "markdown",
   "metadata": {},
   "source": [
    "Nun wollen wir die Methode der kleinsten Quadrate durchführen, um eine Abschätzung für $\\lambda$ zu bekommen. Verwenden Sie dazu die Funktion `least_squares` von `scipy.optimize` und füttern Sie sie mit der Differenz zwischen Binhöhen (am Binmittelpunkt in $x$ Richtung) und Funktionswert der Exponentialverteilung."
   ]
  },
  {
   "cell_type": "code",
   "execution_count": 11,
   "metadata": {},
   "outputs": [],
   "source": [
    "def residual(lamb, x, bin_height):\n",
    "      return bin_height - expFunc(x, lamb, bin_height)"
   ]
  },
  {
   "cell_type": "code",
   "execution_count": 12,
   "metadata": {},
   "outputs": [
    {
     "name": "stdout",
     "output_type": "stream",
     "text": [
      " active_mask: array([0.])\n",
      "        cost: 123.7674370378242\n",
      "         fun: array([ 3.55597989, -1.95105558, -3.13607795,  3.81530199, 11.80167244,\n",
      "       -0.266561  , -2.57730695,  7.27801416, -2.70159007,  0.6562254 ])\n",
      "        grad: array([-0.00028231])\n",
      "         jac: array([[-559.78961945],\n",
      "       [ -89.34513474],\n",
      "       [  87.73841286],\n",
      "       [ 133.64007664],\n",
      "       [ 126.57335567],\n",
      "       [ 102.49721599],\n",
      "       [  76.6881845 ],\n",
      "       [  54.69680786],\n",
      "       [  37.7792722 ],\n",
      "       [  25.49993938]])\n",
      "     message: '`ftol` termination condition is satisfied.'\n",
      "        nfev: 6\n",
      "        njev: 6\n",
      "  optimality: 0.00028231274202639156\n",
      "      status: 2\n",
      "     success: True\n",
      "           x: array([0.53364481])\n"
     ]
    }
   ],
   "source": [
    "\n",
    "\n",
    "ls_result = opt.least_squares(residual,    # Funktion\n",
    "                                x0 = (0.3), # Startwert für lambda\n",
    "                                args = (bin_middle, \n",
    "                                        bin_height),\n",
    "                            )\n",
    "print(ls_result)"
   ]
  },
  {
   "cell_type": "code",
   "execution_count": 13,
   "metadata": {},
   "outputs": [
    {
     "name": "stdout",
     "output_type": "stream",
     "text": [
      "least squares lambda hat = [0.53364481]\n"
     ]
    }
   ],
   "source": [
    "print(f\"least squares lambda hat = {ls_result.x}\")"
   ]
  },
  {
   "cell_type": "markdown",
   "metadata": {},
   "source": [
    "Alternativ können wir auch die Funktion `curve_fit` verwenden, und sie direkt mit der Funktion `expFunc` und den $x$- und $y$-Werten der Bins füttern. Allerdings müssen wir den Parameter `full_output` auf `True` setzen, damit der ganze Output angezeigt wird. Der Fehler auf dem Parameter kann dann mittels `np.sqrt(np.diag(result[1]))` berechnet werden."
   ]
  },
  {
   "cell_type": "code",
   "execution_count": 14,
   "metadata": {},
   "outputs": [],
   "source": [
    "fitfunc = lambda x, lamb: expFunc(x, lamb, bin_height)\n",
    "result = opt.curve_fit(fitfunc,            # Funktion\n",
    "                       bin_middle,                 # x Daten\n",
    "                       bin_height,                 # y Daten\n",
    "                       #p0 = (0.3),         # Startwert für lambda\n",
    "                       full_output = True, # wir wollen den ganzen Output sehen\n",
    "                      )"
   ]
  },
  {
   "cell_type": "code",
   "execution_count": 15,
   "metadata": {},
   "outputs": [
    {
     "name": "stdout",
     "output_type": "stream",
     "text": [
      "(array([0.5336448]), array([[7.15533934e-05]]), {'fvec': array([ -3.55598392,   1.95105493,   3.13607858,  -3.81530102,\n",
      "       -11.80167153,   0.26656173,   2.57730751,  -7.27801376,\n",
      "         2.70159034,  -0.65622522]), 'nfev': 11, 'fjac': array([[-6.19985917e+02,  1.44109694e-01, -1.41516052e-01,\n",
      "        -2.15553281e-01, -2.04155490e-01, -1.65322307e-01,\n",
      "        -1.23693935e-01, -8.82231277e-02, -6.09360855e-02,\n",
      "        -4.11301795e-02]]), 'ipvt': array([1], dtype=int32), 'qtf': array([0.00064736])}, 'Both actual and predicted relative reductions in the sum of squares\\n  are at most 0.000000', 1)\n"
     ]
    }
   ],
   "source": [
    "print(result)"
   ]
  },
  {
   "cell_type": "code",
   "execution_count": 16,
   "metadata": {},
   "outputs": [
    {
     "name": "stdout",
     "output_type": "stream",
     "text": [
      "curve fit lambda hat : [0.5336448] +- [0.00845892]\n"
     ]
    }
   ],
   "source": [
    "curve_fit_error = np.sqrt(np.diag(result[1]))\n",
    "print(f\"curve fit lambda hat : {result[0]} +- {curve_fit_error}\")"
   ]
  },
  {
   "cell_type": "markdown",
   "metadata": {},
   "source": [
    "Eine vierte und letzte Methode den Parameter $\\lambda$ abzuschätzen ist via der `leastsq` Funktion, die den Levenberg-Marquadt Algorithmus verwendet. Implementieren Sie diese auch und lassen Sie sich den Output anzeigen. Der Fehler kann wieder so wie bei `curve_fit` berechnet werden."
   ]
  },
  {
   "cell_type": "code",
   "execution_count": 17,
   "metadata": {},
   "outputs": [],
   "source": [
    "lm_result = opt.leastsq(residual,    # Funktion\n",
    "                        x0 = (0.3),          # Startwert für lambda\n",
    "                        args = (bin_middle, \n",
    "                                bin_height),\n",
    "                        )\n",
    "\n",
    "## by now the Levenberg Marquart Algrorithm is \n",
    "# implemented in least_squares\n",
    "lmls_result = opt.least_squares(residual,    # Funktion\n",
    "                                x0 = (0.3), # Startwert für lambda\n",
    "                                args = (bin_middle, \n",
    "                                        bin_height),\n",
    "                                method='lm'\n",
    "                                )"
   ]
  },
  {
   "cell_type": "code",
   "execution_count": 18,
   "metadata": {},
   "outputs": [
    {
     "name": "stdout",
     "output_type": "stream",
     "text": [
      "using the Levenberg Marquart Algrorithm\n",
      "least squares lambda hat = [0.53364481]\n"
     ]
    }
   ],
   "source": [
    "print(\"using the Levenberg Marquart Algrorithm\")\n",
    "print(f\"least squares lambda hat = {ls_result.x}\")"
   ]
  },
  {
   "cell_type": "markdown",
   "metadata": {},
   "source": [
    "<font face=\"Times New Roman\" size=4>\n",
    "d) Vergleich der Methoden (4P)\n",
    "</font>"
   ]
  },
  {
   "cell_type": "markdown",
   "metadata": {},
   "source": [
    "Wir wollen nun die Maximum-Likelihood Methode und die Methode der kleinsten Quadrate vergleichen und führen sie dazu beide 500 Mal aus. Erstellen Sie also einen `for` Loop anhand dessen die Schätzwerte der beiden Methoden generiert und in eine Liste `lst_est_ml` (Maximum-Likelihood) bzw. `lst_est_kq` (kleinste Quadrate) befüllt werden. Überprüfen Sie in jedem Durchlauf, ob die Fits erfolgreich waren; falls nicht, gehen Sie weiter zur nächsten Iteration. Verändern Sie in jeder Iteration den Wert des `seed` Parameters in der `createData` Funktion, um nicht jedes Mal die gleiche Verteilung zu erzeugen. Hierzu können Sie eine ganzzahlige Zufallszahl zwischen 0 und 100000 mit der Funktion `randint` im Paket `numpy.random` erzeugen."
   ]
  },
  {
   "cell_type": "code",
   "execution_count": 19,
   "metadata": {},
   "outputs": [],
   "source": [
    "n = 500"
   ]
  },
  {
   "cell_type": "code",
   "execution_count": 20,
   "metadata": {},
   "outputs": [
    {
     "data": {
      "text/plain": [
       "<Figure size 432x288 with 0 Axes>"
      ]
     },
     "metadata": {},
     "output_type": "display_data"
    }
   ],
   "source": [
    "lst_est_ml = []\n",
    "lst_est_kq = []\n",
    "for i in range(n):\n",
    "    seed = np.random.randint(0, 1000000)\n",
    "    data, bin_height, bins = plotHistExpData(lamb, n=1000, \n",
    "                                            seed=seed)\n",
    "    plt.clf() #clear the current figure\n",
    "    bin_width = bins[1] - bins[0] # Binbreite\n",
    "    bin_middle = bins[:-1] + bin_width/2 #Binmitte\n",
    "    try:\n",
    "        nll_result = opt.minimize(negloglik_binned, \n",
    "                                    x0 = (0.3),     \n",
    "                                    args = (bin_middle, \n",
    "                                            bin_height),\n",
    "        )\n",
    "        lst_est_ml.append(nll_result.x[0])\n",
    "    except:\n",
    "        print(\"Fit %d was not successful! Skipping...\"%i)\n",
    "        pass\n",
    "    try:\n",
    "        ls_result = opt.least_squares(residual, \n",
    "                                        x0 = (0.3),\n",
    "                                        args = (bin_middle, \n",
    "                                                bin_height),\n",
    "        )  \n",
    "        lst_est_kq.append(ls_result.x[0]) \n",
    "    except:\n",
    "        print(\"Fit %d was not successful! Skipping...\"%i)\n",
    "        pass\n",
    "    \n",
    "    "
   ]
  },
  {
   "cell_type": "code",
   "execution_count": 21,
   "metadata": {},
   "outputs": [
    {
     "data": {
      "text/plain": [
       "<matplotlib.legend.Legend at 0x7ff506ca4490>"
      ]
     },
     "execution_count": 21,
     "metadata": {},
     "output_type": "execute_result"
    },
    {
     "data": {
      "image/png": "[encoded data removed]",
      "text/plain": [
       "<Figure size 432x288 with 1 Axes>"
      ]
     },
     "metadata": {
      "needs_background": "light"
     },
     "output_type": "display_data"
    }
   ],
   "source": [
    "## lets check how random the random numbers are\n",
    "x = np.linspace(0, n, n)\n",
    "plt.scatter(x, lst_est_kq, label='KQ')\n",
    "plt.scatter(x, lst_est_ml, label='ML')\n",
    "plt.axhline(0.5, 0, 1, c='r', label=r'$\\lambda$')\n",
    "plt.xlabel('Iteration')\n",
    "plt.ylabel(\"$\\hat{\\lambda}$\")\n",
    "plt.legend()"
   ]
  },
  {
   "cell_type": "markdown",
   "metadata": {},
   "source": [
    "Erzeugen Sie nun zwei Histogramme, jeweils eins für die Schätzwerte der beiden Methoden, und stellen Sie beide in der gleichen Abbildung dar. Wählen Sie vernünftige Histogrammgrenzen für die $x$ Achse, und fügen Sie Achsenbezeichnungen hinzu. Vergessen Sie nicht die Bezeichnungen hinzuzufügen und die Legende zu aktivieren. Sie können auch für die beiden Diagramme den Parameter `alpha` auf `0.5` setzen, damit die Histogramme zu 50% transparent sind (dann sieht man sie überlappen)."
   ]
  },
  {
   "cell_type": "code",
   "execution_count": 22,
   "metadata": {},
   "outputs": [
    {
     "data": {
      "image/png": "[encoded data removed]",
      "text/plain": [
       "<Figure size 432x288 with 1 Axes>"
      ]
     },
     "metadata": {
      "needs_background": "light"
     },
     "output_type": "display_data"
    }
   ],
   "source": [
    "plt.hist(lst_est_ml, bins=20, alpha=0.5, label=\"ML\")\n",
    "plt.hist(lst_est_kq, bins=20, alpha=0.5, label=\"KQ\")\n",
    "plt.axvline(0.5, 0, 1, c='r', label=r'$\\lambda$')\n",
    "plt.xlabel(\"$\\hat{\\lambda}$\")\n",
    "plt.ylabel(\"Anzahl\")\n",
    "plt.legend(loc='upper right')\n",
    "plt.show()"
   ]
  },
  {
   "cell_type": "markdown",
   "metadata": {},
   "source": [
    "Berechnen und vergleichen Sie nun die Mittelwerte und die Standardabweichungen der beiden Listen, die Sie erzeugt haben. Was stellen Sie fest im Vergleich der beiden Methoden? Welches ist die genaueste Methode (kleinster Bias), welches die präziseste (kleinster Fehler)? "
   ]
  },
  {
   "cell_type": "code",
   "execution_count": 23,
   "metadata": {},
   "outputs": [
    {
     "name": "stdout",
     "output_type": "stream",
     "text": [
      "ML: 0.5069447326556108 +/- 0.015144338759129272\n",
      "KQ: 0.5089298334070115 +/- 0.02320347247311683\n"
     ]
    }
   ],
   "source": [
    "print(\"ML:\",np.mean(lst_est_ml),\"+/-\",np.std(lst_est_ml))\n",
    "print(\"KQ:\",np.mean(lst_est_kq),\"+/-\",np.std(lst_est_kq))"
   ]
  },
  {
   "cell_type": "code",
   "execution_count": 24,
   "metadata": {},
   "outputs": [
    {
     "name": "stdout",
     "output_type": "stream",
     "text": [
      "success rate\n",
      "ML: 1.0\n",
      "KQ: 1.0\n"
     ]
    }
   ],
   "source": [
    "print('success rate')\n",
    "print(f\"ML: {len(lst_est_ml)/n}\")\n",
    "print(f\"KQ: {len(lst_est_kq)/n}\")"
   ]
  }
 ],
 "metadata": {
  "kernelspec": {
   "display_name": "Python 3 (ipykernel)",
   "language": "python",
   "name": "python3"
  },
  "language_info": {
   "codemirror_mode": {
    "name": "ipython",
    "version": 3
   },
   "file_extension": ".py",
   "mimetype": "text/x-python",
   "name": "python",
   "nbconvert_exporter": "python",
   "pygments_lexer": "ipython3",
   "version": "3.9.7"
  },
  "vscode": {
   "interpreter": {
    "hash": "916dbcbb3f70747c44a77c7bcd40155683ae19c65e1c03b4aa3499c5328201f1"
   }
  }
 },
 "nbformat": 4,
 "nbformat_minor": 4
}
