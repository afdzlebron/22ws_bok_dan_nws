{
 "cells": [
  {
   "cell_type": "markdown",
   "metadata": {},
   "source": [
    "<font face=\"Times New Roman\" size=\"3\">\n",
    "<hr style=\"width:100%;height:2px;color:black\">\n",
    "<div style=\"width:100%\">\n",
    "    <div style=\"float:left;width:50%\">Albert-Ludwigs-Universität Freiburg</div>\n",
    "    <div style=\"float:left;width:50%;text-align:right\">Wintersemester 2022/23</div> \n",
    "</div>\n",
    "<div style=\"clear:both;text-align:center\">\n",
    "    <h1 style=\"margin-top:20px;padding:0px\">Datenanalyse für Naturwissenschaftler*Innen</h1>\n",
    "    <h2 style=\"margin:5px;padding:0px\">Statistische Methoden in Theorie und Praxis</h2>\n",
    "    Vorlesung: Dr. Andrea Knue<br />\n",
    "    Übungsleitung: Dr. Constantin Heidegger<br />\n",
    "    <h1 style=\"margin:10px;padding:0px\">Übung 10</h1>\n",
    "    Ausgabe: 13. Januar 2023 10:00 Uhr, Abgabe: 20. Januar 2023 bis 10:00 Uhr via Ilias\n",
    "</div>\n",
    "<hr style=\"font-family:width:100%;height:2px;color:black\">\n",
    "</font>"
   ]
  },
  {
   "cell_type": "markdown",
   "metadata": {},
   "source": [
    "<font face=\"Times New Roman\" size=3>\n",
    "    <h3 style=\"margin:0px\">Aufgabe 3: Monte-Carlo Methode zur Ermittlung von Bias und\n",
    "Varianz (12P)</h3>\n",
    "</font>"
   ]
  },
  {
   "cell_type": "markdown",
   "metadata": {},
   "source": [
    "Oft können Bias und Varianz einer Anpassungsmethode nicht analytisch bestimmt werden. Deswegen muss man auf die Monte-Carlo-Methode zurückgreifen, um eine Aussage über diese beiden Grössen treffen zu können.\n",
    "Dabei gibt es verschiedene Möglichkeiten, eine Anpassung mit Histogrammen durchzuführen, z.B.:\n",
    "   * Erweiterte gebinnte Maximum-Likelihood Anpassung (Extended binned maximum likelihood)\n",
    "   * Gebinnte Anpassung mit der Methode der kleinsten Quadrate (Binned least square method)\n",
    "   \n",
    "Im folgenden sollen der Bias und die Varianz dieser beiden Anpassungsmethoden zur Ermittlung des Zerfallsparameters einer Exponentialfunktion untersucht und verglichen werden."
   ]
  },
  {
   "cell_type": "code",
   "execution_count": 1,
   "metadata": {},
   "outputs": [],
   "source": [
    "import matplotlib.pyplot as plt\n",
    "import numpy as np\n",
    "import scipy.optimize as opt\n",
    "import scipy.stats as stat\n",
    "import math"
   ]
  },
  {
   "cell_type": "code",
   "execution_count": 29,
   "metadata": {},
   "outputs": [],
   "source": [
    "## von Übungsblatt 5:\n",
    "def listOfBins(xmin, xmax, nbins):\n",
    "    return [xmin+(xmax-xmin)/nbins*i for i in range(nbins+1)] ## +1 since we need the upper bound as well"
   ]
  },
  {
   "cell_type": "code",
   "execution_count": null,
   "metadata": {},
   "outputs": [],
   "source": [
    "# von Übungsblatt 8:\n",
    "def createData(l, n):\n",
    "    return np.random.exponential(1/l, n)"
   ]
  },
  {
   "cell_type": "markdown",
   "metadata": {},
   "source": [
    "<font face=\"Times New Roman\" size=4>\n",
    "a) Erzeugung und Darstellung der Pseudo-Daten (1P)\n",
    "</font>"
   ]
  },
  {
   "cell_type": "markdown",
   "metadata": {},
   "source": [
    "Zuerst müssen wir so wie in den vorangegangenen Übungsblättern wieder die Pseudo-Daten erzeugen. Erstellen Sie also eine Liste von exponentialverteilten Zufallszahlen mit einer Stichprobengröße von 1000 und $\\lambda=1/2$. Stellen Sie die Verteilung graphisch in einem `matplotlib` Histogramm dar, und lassen Sie sich die Binhöhen und -grenzen zurückgeben. Verwenden Sie den Seed 8743 um Ihre Ergebnisse reproduzierbar zu machen."
   ]
  },
  {
   "cell_type": "code",
   "execution_count": 1,
   "metadata": {},
   "outputs": [
    {
     "ename": "NameError",
     "evalue": "name 'np' is not defined",
     "output_type": "error",
     "traceback": [
      "\u001b[0;31m---------------------------------------------------------------------------\u001b[0m",
      "\u001b[0;31mNameError\u001b[0m                                 Traceback (most recent call last)",
      "\u001b[0;32m/var/folders/hy/jy4kjcxj6q96t_6x75rjt_fr0000gn/T/ipykernel_7522/3816923062.py\u001b[0m in \u001b[0;36m<module>\u001b[0;34m\u001b[0m\n\u001b[1;32m      5\u001b[0m \u001b[0;34m\u001b[0m\u001b[0m\n\u001b[1;32m      6\u001b[0m \u001b[0;34m\u001b[0m\u001b[0m\n\u001b[0;32m----> 7\u001b[0;31m \u001b[0mdata\u001b[0m \u001b[0;34m=\u001b[0m \u001b[0mcreateData\u001b[0m\u001b[0;34m(\u001b[0m\u001b[0;36m1\u001b[0m\u001b[0;34m/\u001b[0m\u001b[0;36m2\u001b[0m\u001b[0;34m,\u001b[0m \u001b[0;36m1000\u001b[0m\u001b[0;34m)\u001b[0m\u001b[0;34m\u001b[0m\u001b[0;34m\u001b[0m\u001b[0m\n\u001b[0m\u001b[1;32m      8\u001b[0m \u001b[0mdata\u001b[0m\u001b[0;34m\u001b[0m\u001b[0;34m\u001b[0m\u001b[0m\n",
      "\u001b[0;32m/var/folders/hy/jy4kjcxj6q96t_6x75rjt_fr0000gn/T/ipykernel_7522/3816923062.py\u001b[0m in \u001b[0;36mcreateData\u001b[0;34m(l, n, seed)\u001b[0m\n\u001b[1;32m      1\u001b[0m \u001b[0;31m# passe createData an um auch den Seed zu verwenden\u001b[0m\u001b[0;34m\u001b[0m\u001b[0;34m\u001b[0m\u001b[0m\n\u001b[1;32m      2\u001b[0m \u001b[0;32mdef\u001b[0m \u001b[0mcreateData\u001b[0m\u001b[0;34m(\u001b[0m\u001b[0ml\u001b[0m\u001b[0;34m,\u001b[0m \u001b[0mn\u001b[0m\u001b[0;34m,\u001b[0m \u001b[0mseed\u001b[0m\u001b[0;34m=\u001b[0m\u001b[0;36m8743\u001b[0m\u001b[0;34m)\u001b[0m\u001b[0;34m:\u001b[0m\u001b[0;34m\u001b[0m\u001b[0;34m\u001b[0m\u001b[0m\n\u001b[0;32m----> 3\u001b[0;31m     \u001b[0mnp\u001b[0m\u001b[0;34m.\u001b[0m\u001b[0mrandom\u001b[0m\u001b[0;34m.\u001b[0m\u001b[0mseed\u001b[0m\u001b[0;34m(\u001b[0m\u001b[0mseed\u001b[0m\u001b[0;34m)\u001b[0m\u001b[0;34m\u001b[0m\u001b[0;34m\u001b[0m\u001b[0m\n\u001b[0m\u001b[1;32m      4\u001b[0m     \u001b[0;32mreturn\u001b[0m \u001b[0mnp\u001b[0m\u001b[0;34m.\u001b[0m\u001b[0mrandom\u001b[0m\u001b[0;34m.\u001b[0m\u001b[0mexponential\u001b[0m\u001b[0;34m(\u001b[0m\u001b[0;36m1\u001b[0m \u001b[0;34m/\u001b[0m \u001b[0ml\u001b[0m\u001b[0;34m,\u001b[0m \u001b[0mn\u001b[0m\u001b[0;34m)\u001b[0m\u001b[0;34m\u001b[0m\u001b[0;34m\u001b[0m\u001b[0m\n\u001b[1;32m      5\u001b[0m \u001b[0;34m\u001b[0m\u001b[0m\n",
      "\u001b[0;31mNameError\u001b[0m: name 'np' is not defined"
     ]
    }
   ],
   "source": [
    "# passe createData an um auch den Seed zu verwenden\n",
    "def createData(l, n, seed=8743):\n",
    "    np.random.seed(seed)\n",
    "    return np.random.exponential(1 / l, n)\n",
    "\n",
    "\n",
    "data = createData(1/2, 1000)\n",
    "data"
   ]
  },
  {
   "cell_type": "code",
   "execution_count": 30,
   "metadata": {},
   "outputs": [
    {
     "data": {
      "image/png": "[encoded data removed]",
      "text/plain": [
       "<Figure size 432x288 with 1 Axes>"
      ]
     },
     "metadata": {
      "needs_background": "light"
     },
     "output_type": "display_data"
    },
    {
     "name": "stdout",
     "output_type": "stream",
     "text": [
      "Bin heights: [471 246 130  71  36  25   9   3   5   4]\n",
      "Bin edges: [0.0023888807209532237, 1.2190966465192918, 2.435804412317631, 3.6525121781159693, 4.869219943914308, 6.085927709712647, 7.302635475510985, 8.519343241309326, 9.736051007107664, 10.952758772906002, 12.169466538704341]\n"
     ]
    }
   ],
   "source": [
    "bins1 = listOfBins(min(data), max(data), 10)\n",
    "plt.hist(data, bins=bins1)\n",
    "plt.show()\n",
    "hist, bins = np.histogram(data, bins=bins1)\n",
    "# hist, bins, t= plt.hist(data, ins=bins1)\n",
    "print(\"Bin heights:\", hist)\n",
    "print(\"Bin edges:\", bins1)"
   ]
  },
  {
   "cell_type": "markdown",
   "metadata": {},
   "source": [
    "<font face=\"Times New Roman\" size=4>\n",
    "b) Maximum-Likelihood Schätzung (2P)\n",
    "</font>"
   ]
  },
  {
   "cell_type": "markdown",
   "metadata": {},
   "source": [
    "Führen Sie als erste Abschätzung von $\\hat{\\lambda}$ die Maximum-Likelihood Methode durch."
   ]
  },
  {
   "cell_type": "code",
   "execution_count": 36,
   "metadata": {},
   "outputs": [
    {
     "name": "stderr",
     "output_type": "stream",
     "text": [
      "/var/folders/hy/jy4kjcxj6q96t_6x75rjt_fr0000gn/T/ipykernel_24420/4119518708.py:6: RuntimeWarning: invalid value encountered in log\n",
      "  return -np.sum(np.log(l + 1e-10) - l*data)\n",
      "/var/folders/hy/jy4kjcxj6q96t_6x75rjt_fr0000gn/T/ipykernel_24420/4119518708.py:6: RuntimeWarning: invalid value encountered in log\n",
      "  return -np.sum(np.log(l + 1e-10) - l*data)\n",
      "/var/folders/hy/jy4kjcxj6q96t_6x75rjt_fr0000gn/T/ipykernel_24420/4119518708.py:6: RuntimeWarning: invalid value encountered in log\n",
      "  return -np.sum(np.log(l + 1e-10) - l*data)\n"
     ]
    },
    {
     "name": "stdout",
     "output_type": "stream",
     "text": [
      "Maximum Likelihood estimate of lambda: -1033.24\n"
     ]
    },
    {
     "data": {
      "image/png": "[encoded data removed]",
      "text/plain": [
       "<Figure size 432x288 with 1 Axes>"
      ]
     },
     "metadata": {
      "needs_background": "light"
     },
     "output_type": "display_data"
    },
    {
     "data": {
      "image/png": "[encoded data removed]",
      "text/plain": [
       "<Figure size 432x288 with 1 Axes>"
      ]
     },
     "metadata": {
      "needs_background": "light"
     },
     "output_type": "display_data"
    }
   ],
   "source": [
    "# Define the likelihood function\n",
    "# def likelihood(l, data):\n",
    "#     return -np.sum(np.log(l) - l*data)\n",
    "\n",
    "def likelihood(l, data):\n",
    "    return -np.sum(np.log(l + 1e-10) - l*data)\n",
    "\n",
    "\n",
    "# Find the maximum likelihood estimate of lambda\n",
    "result = opt.minimize(likelihood, x0=1, args=(data,))\n",
    "l_hat = result.x[0]\n",
    "print(\"Maximum Likelihood estimate of lambda:\", l_hat)\n",
    "\n",
    "# Plot the likelihood function\n",
    "l_range = np.linspace(0.01, 2, 100)\n",
    "likelihood_values = [-np.sum(np.log(l) - l*data) for l in l_range]\n",
    "#likelihood_values = likelihood(l_range, data)\n",
    "#likelihood_values = -np.sum(np.log(l_range) - l_range*np.ones((100,1))*data, axis=1)\n",
    "plt.plot(l_range, likelihood_values)\n",
    "plt.axvline(x=l_hat, color='r', linestyle='--')\n",
    "plt.xlabel('$\\lambda$')\n",
    "plt.ylabel('Likelihood')\n",
    "plt.show()\n",
    "\n",
    "\n",
    "# plot exponential distribution with maximum likelihood estimate\n",
    "plt.hist(data, bins='auto', density=True, label='data')\n",
    "x = np.linspace(0, max(data), 100)\n",
    "plt.plot(x, 1/l_hat*np.exp(-x/l_hat), '-r',\n",
    "         label='exponential with MLE of lambda')\n",
    "plt.legend()\n",
    "plt.show()\n"
   ]
  },
  {
   "cell_type": "markdown",
   "metadata": {},
   "source": [
    "<font face=\"Times New Roman\" size=4>\n",
    "c) Gebinnte Schätzung mit der Methode der kleinsten Quadrate (5P)\n",
    "</font>"
   ]
  },
  {
   "cell_type": "markdown",
   "metadata": {},
   "source": [
    "Nun wollen wir die Methode der kleinsten Quadrate durchführen, um eine Abschätzung für $\\lambda$ zu bekommen. Verwenden Sie dazu die Funktion `least_squares` von `scipy.optimize` und füttern Sie sie mit der Differenz zwischen Binhöhen (am Binmittelpunkt in $x$ Richtung) und Funktionswert der Exponentialverteilung."
   ]
  },
  {
   "cell_type": "code",
   "execution_count": 37,
   "metadata": {},
   "outputs": [
    {
     "name": "stdout",
     "output_type": "stream",
     "text": [
      "Least Squares estimate of lambda: 401919.0\n"
     ]
    },
    {
     "data": {
      "image/png": "[encoded data removed]",
      "text/plain": [
       "<Figure size 432x288 with 1 Axes>"
      ]
     },
     "metadata": {
      "needs_background": "light"
     },
     "output_type": "display_data"
    },
    {
     "data": {
      "image/png": "[encoded data removed]",
      "text/plain": [
       "<Figure size 432x288 with 1 Axes>"
      ]
     },
     "metadata": {
      "needs_background": "light"
     },
     "output_type": "display_data"
    }
   ],
   "source": [
    "# Define the function to be minimized\n",
    "\n",
    "def residuals(l, x, y):\n",
    "    return y - np.exp(-x/l)\n",
    "\n",
    "\n",
    "# Find the least squares estimate of lambda\n",
    "result = opt.least_squares(residuals, x0=1, args=(\n",
    "    bins[:-1] + (bins[1]-bins[0])/2, hist))\n",
    "l_hat = result.x[0]\n",
    "print(\"Least Squares estimate of lambda:\", l_hat)\n",
    "\n",
    "# Plot the residuals\n",
    "plt.plot(bins[:-1] + (bins[1]-bins[0])/2, residuals(l_hat,\n",
    "         bins[:-1] + (bins[1]-bins[0])/2, hist), 'o')\n",
    "plt.xlabel('x')\n",
    "plt.ylabel('Residuals')\n",
    "plt.show()\n",
    "\n",
    "\n",
    "# plot exponential distribution with least square estimate\n",
    "\n",
    "plt.hist(data, bins='auto', density=True, label='data')\n",
    "x = np.linspace(0, max(data), 100)\n",
    "plt.plot(x, 1/l_hat*np.exp(-x/l_hat), '-r',\n",
    "         label='exponential with LSE of lambda')\n",
    "plt.legend()\n",
    "plt.show()\n",
    "# Schätzer muss 0.5 sein (Anmerkung: MM)"
   ]
  },
  {
   "cell_type": "markdown",
   "metadata": {},
   "source": [
    "Alternativ können wir auch die Funktion `curve_fit` verwenden, und sie direkt mit der Funktion `expFunc` und den $x$- und $y$-Werten der Bins füttern. Allerdings müssen wir den Parameter `full_output` auf `True` setzen, damit der ganze Output angezeigt wird. Der Fehler auf dem Parameter kann dann mittels `np.sqrt(np.diag(result[1]))` berechnet werden."
   ]
  },
  {
   "cell_type": "code",
   "execution_count": 38,
   "metadata": {},
   "outputs": [
    {
     "name": "stdout",
     "output_type": "stream",
     "text": [
      "Least Squares estimate of lambda: 436347.29521591094\n",
      "Standard error of lambda: [9.22412066e+11]\n"
     ]
    },
    {
     "data": {
      "image/png": "[encoded data removed]",
      "text/plain": [
       "<Figure size 432x288 with 1 Axes>"
      ]
     },
     "metadata": {
      "needs_background": "light"
     },
     "output_type": "display_data"
    }
   ],
   "source": [
    "# Define the exponential function\n",
    "\n",
    "def expFunc(x, l):\n",
    "    return np.exp(-x/l)\n",
    "# Fit the exponential function to the binned data\n",
    "\n",
    "\n",
    "result = opt.curve_fit(\n",
    "    expFunc, bins[:-1] + (bins[1]-bins[0])/2, hist, full_output=True)\n",
    "# Extract the parameter estimate and the covariance matrix\n",
    "\n",
    "l_hat, cov = result[0][0], result[1]\n",
    "# Compute the standard error of the estimate\n",
    "\n",
    "l_std = np.sqrt(np.diag(cov))\n",
    "\n",
    "print(\"Least Squares estimate of lambda:\", l_hat)\n",
    "print(\"Standard error of lambda:\", l_std)\n",
    "# plot exponential distribution with least square estimate\n",
    "\n",
    "plt.hist(data, bins='auto', density=True, label='data')\n",
    "x = np.linspace(0, max(data), 100)\n",
    "plt.plot(x, expFunc(x, l_hat), '-r', label='exponential with LSE of lambda')\n",
    "plt.legend()\n",
    "plt.show()\n"
   ]
  },
  {
   "cell_type": "markdown",
   "metadata": {},
   "source": [
    "Eine vierte und letzte Methode den Parameter $\\lambda$ abzuschätzen ist via der `leastsq` Funktion, die den Levenberg-Marquadt Algorithmus verwendet. Implementieren Sie diese auch und lassen Sie sich den Output anzeigen. Der Fehler kann wieder so wie bei `curve_fit` berechnet werden."
   ]
  },
  {
   "cell_type": "code",
   "execution_count": 39,
   "metadata": {},
   "outputs": [
    {
     "name": "stdout",
     "output_type": "stream",
     "text": [
      "Least Squares estimate of lambda: 436347.29521591094\n",
      "Standard error of lambda: 1.0\n"
     ]
    },
    {
     "data": {
      "image/png": "[encoded data removed]",
      "text/plain": [
       "<Figure size 432x288 with 1 Axes>"
      ]
     },
     "metadata": {
      "needs_background": "light"
     },
     "output_type": "display_data"
    }
   ],
   "source": [
    "# Define the function to be minimized\n",
    "def residuals(params, x, y):\n",
    "    l = params\n",
    "    return y - np.exp(-x/l)\n",
    "\n",
    "\n",
    "# Find the least squares estimate of lambda\n",
    "result = opt.leastsq(residuals, x0=1, args=(\n",
    "    bins[:-1] + (bins[1]-bins[0])/2, hist))\n",
    "l_hat = result[0][0]\n",
    "print(\"Least Squares estimate of lambda:\", l_hat)\n",
    "\n",
    "# Compute the standard error of the estimate\n",
    "cov = result[1]\n",
    "#l_std = np.sqrt(np.diag(cov))\n",
    "l_std = np.sqrt(cov)\n",
    "\n",
    "\n",
    "print(\"Standard error of lambda:\", l_std)\n",
    "\n",
    "# plot exponential distribution with least square estimate\n",
    "plt.hist(data, bins='auto', density=True, label='data')\n",
    "x = np.linspace(0, max(data), 100)\n",
    "plt.plot(x, 1/l_hat*np.exp(-x/l_hat), '-r',\n",
    "         label='exponential with LSE of lambda')\n",
    "plt.legend()\n",
    "plt.show()\n"
   ]
  },
  {
   "cell_type": "markdown",
   "metadata": {},
   "source": [
    "<font face=\"Times New Roman\" size=4>\n",
    "d) Vergleich der Methoden (4P)\n",
    "</font>"
   ]
  },
  {
   "cell_type": "markdown",
   "metadata": {},
   "source": [
    "Wir wollen nun die Maximum-Likelihood Methode und die Methode der kleinsten Quadrate vergleichen und führen sie dazu beide 500 Mal aus. Erstellen Sie also einen `for` Loop anhand dessen die Schätzwerte der beiden Methoden generiert und in eine Liste `lst_est_ml` (Maximum-Likelihood) bzw. `lst_est_kq` (kleinste Quadrate) befüllt werden. Überprüfen Sie in jedem Durchlauf, ob die Fits erfolgreich waren; falls nicht, gehen Sie weiter zur nächsten Iteration. Verändern Sie in jeder Iteration den Wert des `seed` Parameters in der `createData` Funktion, um nicht jedes Mal die gleiche Verteilung zu erzeugen. Hierzu können Sie eine ganzzahlige Zufallszahl zwischen 0 und 100000 mit der Funktion `randint` im Paket `numpy.random` erzeugen."
   ]
  },
  {
   "cell_type": "code",
   "execution_count": 40,
   "metadata": {},
   "outputs": [],
   "source": [
    "np.random.seed(8743)\n",
    "\n",
    "lst_est_ml = []\n",
    "lst_est_kq = []\n",
    "\n",
    "def negative_log_likelihood(l, data):\n",
    "    n = len(data)\n",
    "    return -n*np.log(l) - l*np.sum(data)\n",
    "\n",
    "# def negative_log_likelihood(l, data):\n",
    "#     n = len(data)\n",
    "#     return -n*np.log(l + 1e-10) - l*np.sum(data)\n",
    "\n",
    "for i in range(500):\n",
    "    seed = np.random.randint(0, 100000)\n",
    "    data = createData(1/2, 1000, seed)\n",
    "    hist, bins = np.histogram(data, bins='auto')\n",
    "\n",
    "    # Maximum Likelihood Method\n",
    "    bnds = [(1e-10, None)]\n",
    "    result = opt.minimize(negative_log_likelihood, x0=1, args=(data,), bounds=bnds)\n",
    "    if result.success:\n",
    "        l_hat_ml = result.x[0]\n",
    "        lst_est_ml.append(l_hat_ml)\n",
    "        \n",
    "    # result = opt.minimize(negative_log_likelihood, x0=1, args=(data,))\n",
    "    # if result.success:\n",
    "    #     l_hat_ml = result.x[0]\n",
    "    #     lst_est_ml.append(l_hat_ml)\n",
    "\n",
    "    # Least Squares Method\n",
    "    result = opt.least_squares(residuals, x0=1, args=(\n",
    "        bins[:-1] + (bins[1]-bins[0])/2, hist))\n",
    "    if result.success:\n",
    "        l_hat_kq = result.x[0]\n",
    "        lst_est_kq.append(l_hat_kq)\n"
   ]
  },
  {
   "cell_type": "markdown",
   "metadata": {},
   "source": [
    "Erzeugen Sie nun zwei Histogramme, jeweils eins für die Schätzwerte der beiden Methoden, und stellen Sie beide in der gleichen Abbildung dar. Wählen Sie vernünftige Histogrammgrenzen für die $x$ Achse, und fügen Sie Achsenbezeichnungen hinzu. Vergessen Sie nicht die Bezeichnungen hinzuzufügen und die Legende zu aktivieren. Sie können auch für die beiden Diagramme den Parameter `alpha` auf `0.5` setzen, damit die Histogramme zu 50% transparent sind (dann sieht man sie überlappen)."
   ]
  },
  {
   "cell_type": "code",
   "execution_count": 26,
   "metadata": {},
   "outputs": [
    {
     "data": {
      "image/png": "[encoded data removed]",
      "text/plain": [
       "<Figure size 432x288 with 1 Axes>"
      ]
     },
     "metadata": {
      "needs_background": "light"
     },
     "output_type": "display_data"
    }
   ],
   "source": [
    "# Plot the histograms\n",
    "plt.hist(lst_est_ml, bins=50, alpha=0.5, label='Maximum Likelihood')\n",
    "plt.hist(lst_est_kq, bins=50, alpha=0.5, label='Least Squares')\n",
    "\n",
    "# Add labels and legend\n",
    "plt.xlabel('$\\lambda$')\n",
    "plt.ylabel('Number of estimates')\n",
    "plt.legend()\n",
    "\n",
    "# Set the x-axis limits\n",
    "plt.xlim(0.4, 0.6)\n",
    "\n",
    "# Show the plot\n",
    "plt.show()\n"
   ]
  },
  {
   "cell_type": "markdown",
   "metadata": {},
   "source": [
    "Berechnen und vergleichen Sie nun die Mittelwerte und die Standardabweichungen der beiden Listen, die Sie erzeugt haben. Was stellen Sie fest im Vergleich der beiden Methoden? Welches ist die genaueste Methode (kleinster Bias), welches die präziseste (kleinster Fehler)? "
   ]
  },
  {
   "cell_type": "code",
   "execution_count": 27,
   "metadata": {},
   "outputs": [
    {
     "name": "stderr",
     "output_type": "stream",
     "text": [
      "/usr/local/lib/python3.10/site-packages/numpy/core/fromnumeric.py:3440: RuntimeWarning: Mean of empty slice.\n",
      "  return _methods._mean(a, axis=axis, dtype=dtype,\n",
      "/usr/local/lib/python3.10/site-packages/numpy/core/_methods.py:189: RuntimeWarning: invalid value encountered in double_scalars\n",
      "  ret = ret.dtype.type(ret / rcount)\n",
      "/usr/local/lib/python3.10/site-packages/numpy/core/_methods.py:262: RuntimeWarning: Degrees of freedom <= 0 for slice\n",
      "  ret = _var(a, axis=axis, dtype=dtype, out=out, ddof=ddof,\n",
      "/usr/local/lib/python3.10/site-packages/numpy/core/_methods.py:222: RuntimeWarning: invalid value encountered in true_divide\n",
      "  arrmean = um.true_divide(arrmean, div, out=arrmean, casting='unsafe',\n",
      "/usr/local/lib/python3.10/site-packages/numpy/core/_methods.py:254: RuntimeWarning: invalid value encountered in double_scalars\n",
      "  ret = ret.dtype.type(ret / rcount)\n"
     ]
    }
   ],
   "source": [
    "mean_ml = np.mean(lst_est_ml)\n",
    "std_ml = np.std(lst_est_ml)\n",
    "\n",
    "mean_kq = np.mean(lst_est_kq)\n",
    "std_kq = np.std(lst_est_kq)\n"
   ]
  }
 ],
 "metadata": {
  "kernelspec": {
   "display_name": "Python 3",
   "language": "python",
   "name": "python3"
  },
  "language_info": {
   "codemirror_mode": {
    "name": "ipython",
    "version": 3
   },
   "file_extension": ".py",
   "mimetype": "text/x-python",
   "name": "python",
   "nbconvert_exporter": "python",
   "pygments_lexer": "ipython3",
   "version": "3.10.9"
  },
  "vscode": {
   "interpreter": {
    "hash": "b460384b52104c1e5b9cf54bee46a255d22b2bef338f75ac4ad5d48196028d3c"
   }
  }
 },
 "nbformat": 4,
 "nbformat_minor": 4
}
