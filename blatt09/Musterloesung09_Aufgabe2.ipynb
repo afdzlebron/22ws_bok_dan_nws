{
 "cells": [
  {
   "cell_type": "markdown",
   "metadata": {},
   "source": [
    "<font face=\"Times New Roman\" size=\"3\">\n",
    "<hr style=\"width:100%;height:2px;color:black\">\n",
    "<div style=\"width:100%\">\n",
    "    <div style=\"float:left;width:50%\">Albert-Ludwigs-Universität Freiburg</div>\n",
    "    <div style=\"float:left;width:50%;text-align:right\">Wintersemester 2022/23</div> \n",
    "</div>\n",
    "<div style=\"clear:both;text-align:center\">\n",
    "    <h1 style=\"margin-top:20px;padding:0px\">Datenanalyse für Naturwissenschaftler*Innen</h1>\n",
    "    <h2 style=\"margin:5px;padding:0px\">Statistische Methoden in Theorie und Praxis</h2>\n",
    "    Vorlesung: Dr. Andrea Knue<br />\n",
    "    Übungsleitung: Dr. Constantin Heidegger<br />\n",
    "    <h1 style=\"margin:10px;padding:0px\">Musterlösung 9</h1>\n",
    "    Ausgabe: 16. Dezember 2022 10:00 Uhr, Abgabe: 13. Januar 2023 bis 10:00 Uhr via Ilias\n",
    "</div>\n",
    "<hr style=\"font-family:width:100%;height:2px;color:black\">\n",
    "</font>"
   ]
  },
  {
   "cell_type": "markdown",
   "metadata": {},
   "source": [
    "<font face=\"Times New Roman\" size=3>\n",
    "    <h3 style=\"margin:0px\">Aufgabe 2: Erweiterter Minimum-Likelihood Fit und Profiling (20P)</h3>\n",
    "</font>"
   ]
  },
  {
   "cell_type": "markdown",
   "metadata": {},
   "source": [
    "In dieser Übung wird ein Beispieldatensatz betrachtet, welcher aus zwei verschiedenen Arten von Ereignissen besteht: Signalereignisse ($s$), welche in einer Gaussverteilung $f_s(x)$ vorliegen, und Untergrundereignisse ($b$ für background), welche nach einer Exponentialfunktion $f_b(x)$ verteilt sind. Ziel ist es, die erweiterte Maximum Likelihood Methode zu benutzen, um die Anzahl von Signal- und Untergrundereignissen aus einem Beispieldatensatz zu bestimmen."
   ]
  },
  {
   "cell_type": "code",
   "execution_count": 2,
   "metadata": {},
   "outputs": [],
   "source": [
    "import matplotlib.pyplot as plt\n",
    "import scipy.stats as st\n",
    "import scipy.optimize as opt\n",
    "import numpy as np"
   ]
  },
  {
   "cell_type": "code",
   "execution_count": 3,
   "metadata": {},
   "outputs": [],
   "source": [
    "## von Übungsblatt 5:\n",
    "def listOfBins(xmin, xmax, nbins):\n",
    "    return [xmin+(xmax-xmin)/nbins*i for i in range(nbins+1)] ## +1 since we need the upper bound as well"
   ]
  },
  {
   "cell_type": "markdown",
   "metadata": {},
   "source": [
    "Betrachten Sie die Wahrscheinlichkeitsdichtefunktion (WDF) $f(x; \\mu_s, \\mu_b)$ für die Signal- und Untergrundverteilung:\n",
    "\n",
    "\\begin{equation}\n",
    "f(x; \\mu_s, \\mu_b) = \\frac{\\mu_s}{\\mu_s + \\mu_b} f_s(x) + \\frac{\\mu_b}{\\mu_s + \\mu_b} f_b(x)\n",
    "\\end{equation}\n",
    "\n",
    "wobei entsprechend $\\mu_s$ und $\\mu_b$ für die Anzahl von Signal- und Untergrundereignissen stehen. Um das Beispiel zu vereinfachen, nehmen wir an, dass die Parameter der Signal- und Untergrund-WDF bekannt sind. Daher sind $f_s$ und $f_b$ Funktionen von nur einer Variablen $x$.\n",
    "\n",
    "Üblicherweise in Experimenten der Teilchenphysik, ist die Gesamtzahl an Ereignissen poissonverteilt. Daher ergibt sich für die WDF:\n",
    "\n",
    "\\begin{equation}\n",
    "P(n;\\mu_s, \\mu_b) = \\frac{(\\mu_s+\\mu_b)^n}{n!} \\exp(-(\\mu_s+\\mu_b)) \n",
    "\\end{equation}\n",
    "\n",
    "Daher ist die Log-Likelihoodfunktion gegeben durch\n",
    "\n",
    "\\begin{equation}\n",
    "\\ln \\mathcal{L} = -(\\mu_s+\\mu_b) + \\sum_{i=1}^n \\ln [(\\mu_s+\\mu_b) ~ f(x_i; \\mu_s, \\mu_b)] \n",
    "\\end{equation}\n",
    "\n",
    "Diese Funktion muss nun maximiert werden um die Parameter der Signal- und Untergrundnormierung zu finden."
   ]
  },
  {
   "cell_type": "markdown",
   "metadata": {},
   "source": [
    "<font face=\"Times New Roman\" size=4>\n",
    "a) Erzeugung der Pseudo-Daten (4P)\n",
    "</font>"
   ]
  },
  {
   "cell_type": "markdown",
   "metadata": {},
   "source": [
    "Wie in Übungsblatt 8 müssen wir wieder zuerst unsere Daten \"erzeugen\" (in einem echten Experiment würden wir sie messen). Dafür erstellen wir zuerst unsere eigene WDF, anhand derer wir Zufallszahlen generieren werden. Die WDF hat die Form:\n",
    "\\begin{equation}\n",
    "f(x; ~\\mu, ~\\sigma, ~\\tau, ~f_s, ~f_b) = \\frac{f_s}{f_s + f_b} \\frac{1}{\\sqrt{2\\pi\\sigma^2}} \n",
    "\\exp\\left(\\frac{-(x-\\mu)^2}{2\\sigma^2}\\right) + \\frac{f_b}{f_s + f_b} \\frac{1}{\\tau} \\exp\\left(-\\frac{x}{\\tau}\\right) \n",
    "\\end{equation}\n",
    "und wir verwenden folgende Parameter:\n",
    "* $f_s=0.5$ (Anteil der Signalereignisse)\n",
    "* $f_b=0.5$ (Anteil der Untergrundereignisse, also $f_s/f_b = 1$, gleich viel Signal- wie Untergrundereignisse)\n",
    "* $\\mu=5.0$\n",
    "* $\\sigma=0.5$\n",
    "* $\\tau=10.0$\n",
    "\n",
    "Mit Python kann man eine Zufallszahl anhand einer eigenen WDF erstellen indem man ein Child der Klasse `rv_continuous`, die im Modul `stats` der Bibliothek `scipy` definiert ist, erzeugt und die Methode `_pdf` überschreibt. Danach instanziert man die Child-Klasse, was die gewünschte Zufallszahl zurückgibt. Ein Beispiel für diese Methdode zur Erzeugung von gaussverteilten Zufallsvariablen ist im Folgenden gegeben.  In der Dokumentation der Funktion finden Sie genauere Informationen: https://docs.scipy.org/doc/scipy/reference/generated/scipy.stats.rv_continuous.html .\n"
   ]
  },
  {
   "cell_type": "code",
   "execution_count": 31,
   "metadata": {},
   "outputs": [],
   "source": [
    "# Beispiel um Zufallszahlen aus der Gaussverteilung mit mu = 1 und sigma = 2 zu ziehen:\n",
    "class data_gen(st.rv_continuous):\n",
    "    def _pdf(self, x):\n",
    "        mu  = 1.0\n",
    "        sig = 2.0\n",
    "        return 1/np.sqrt(2*np.pi*sig**2) * np.exp(-(x-mu)**2/(2*sig**2))\n",
    "    \n",
    "# a,b: Intervallgrenzen in denen die Zufallszahlen gezogen werden sollen, size gibt die Anzahl der Zufallszahlen an.\n",
    "d = data_gen(a=-4, b=6, seed=1374)\n",
    "data = d.rvs(size=1000)\n"
   ]
  },
  {
   "cell_type": "markdown",
   "metadata": {},
   "source": [
    "Zeichnen Sie nun die gezogenen Zufallszahlen in ein Histogramm mit 30 Bins. Vergessen Sie nicht eine angemessene Achsenbeschriftung!"
   ]
  },
  {
   "cell_type": "code",
   "execution_count": 32,
   "metadata": {},
   "outputs": [
    {
     "data": {
      "image/png": "[encoded data removed]",
      "text/plain": [
       "<Figure size 468x360 with 1 Axes>"
      ]
     },
     "metadata": {
      "needs_background": "light"
     },
     "output_type": "display_data"
    }
   ],
   "source": [
    "fig = plt.figure(figsize=(6.5, 5))\n",
    "ax = fig.add_subplot()\n",
    "\n",
    "plt.xlabel(\"Zufallszahl x\", fontsize=13)\n",
    "plt.ylabel(\"Anzahl\", fontsize=14, labelpad=2)\n",
    "ax.hist(data, bins=30)\n",
    "plt.show()"
   ]
  },
  {
   "cell_type": "markdown",
   "metadata": {},
   "source": [
    "Man sieht dass an den Intervallgrenzen Werte gehäuft vorkommen. Um das zu verhindern, kann man die Intervallgrenzen einfach auf \"a= None, b=None\" setzen (also auf += unendlich). Wiederholen sie die obigen Schritte mit diesen Einstellungen, und zeichnen Sie das Histogramm erneut. "
   ]
  },
  {
   "cell_type": "code",
   "execution_count": 34,
   "metadata": {},
   "outputs": [
    {
     "data": {
      "image/png": "[encoded data removed]",
      "text/plain": [
       "<Figure size 468x360 with 1 Axes>"
      ]
     },
     "metadata": {
      "needs_background": "light"
     },
     "output_type": "display_data"
    }
   ],
   "source": [
    "d = data_gen(a=None, b=None, seed=1374)\n",
    "data = d.rvs(size=1000)\n",
    "\n",
    "fig = plt.figure(figsize=(6.5, 5))\n",
    "ax = fig.add_subplot()\n",
    "\n",
    "plt.xlabel(\"Zufallszahl x\", fontsize=13)\n",
    "plt.ylabel(\"Anzahl\", fontsize=14, labelpad=2)\n",
    "\n",
    "ax.hist(data, bins=30)\n",
    "plt.show()"
   ]
  },
  {
   "cell_type": "markdown",
   "metadata": {},
   "source": [
    "Erstellen Sie also nun eine Child-Klasse `data_gen` von `rv_continuous` mit der obigen Funktion $f(x; \\mu_s, \\mu_b)$ als WDF und definieren Sie die Intervallgrenzen als $0\\leq x \\leq \\infty$ (die Grenzen werden wie oben am Beispiel gezeigt als die beiden Parameter `a` und `b` bei der Instanzierung der Klasse übergeben). Mit der Funktion `rvs` erstellen Sie dann aus dem Datengenerator `data_gen` 1000 Zufallszahlen und speichern diese in die Liste `data`. Verwenden Sie den Seed 7435 um Ihre Ergebnisse reproduzierbar zu machen.\n",
    "\n",
    "*Hinweis:* eine Klasse ist quasi der Bauplan für eine Variable von einem gewissen Typ (jeder Datentyp (int, float, ...) ist durch eine Klasse definiert), und so beinhaltet eine Klasse nicht nur die Parameter (genannt *Mitglieder*) des Objektes, sondern auch seine Funktionen (genannt *Methoden*). Man könnte sagen, eine Klasse ist eine Menge von zusammengehörigen Funktionen und Parametern. Und wenn man eine neue Variable mit dieser Klasse als \"Datentyp\" erzeugt, erstellt man eine Kopie der Klasse, sodass man für jede Variable alle Methoden und Parameter zur Verfügung hat."
   ]
  },
  {
   "cell_type": "code",
   "execution_count": 46,
   "metadata": {},
   "outputs": [],
   "source": [
    "class data_gen(st.rv_continuous):\n",
    "    def _pdf(self, x):\n",
    "        fs  = 0.5\n",
    "        fb  = 0.5\n",
    "        mu  = 5.0\n",
    "        sig = 0.5\n",
    "        tau = 10.0\n",
    "        return fs/(fs+fb) * 1/np.sqrt(2*np.pi*sig**2) * np.exp(-(x-mu)**2/(2*sig**2)) + fb/(fs+fb) * 1/tau * np.exp(-x/tau)\n",
    "    "
   ]
  },
  {
   "cell_type": "code",
   "execution_count": 47,
   "metadata": {},
   "outputs": [],
   "source": [
    "d = data_gen(a=0, b=None, seed=7435)\n",
    "data = d.rvs(size=1000)"
   ]
  },
  {
   "cell_type": "markdown",
   "metadata": {},
   "source": [
    "Zeichnen Sie nun ein Histogramm mit 90 Bins im Intervall $[0,30]$ um die Daten zu visualisieren."
   ]
  },
  {
   "cell_type": "code",
   "execution_count": 48,
   "metadata": {},
   "outputs": [
    {
     "data": {
      "image/png": "[encoded data removed]",
      "text/plain": [
       "<Figure size 432x288 with 1 Axes>"
      ]
     },
     "metadata": {
      "needs_background": "light"
     },
     "output_type": "display_data"
    }
   ],
   "source": [
    "plt.hist(data, bins=listOfBins(0,30,90))\n",
    "plt.xlabel(\"x\")\n",
    "plt.ylabel(\"Anzahl\")\n",
    "plt.xlim(0,30)\n",
    "plt.show()"
   ]
  },
  {
   "cell_type": "markdown",
   "metadata": {},
   "source": [
    "<font face=\"Times New Roman\" size=4>\n",
    "b) Log-Likelihood (4P)\n",
    "</font>"
   ]
  },
  {
   "cell_type": "markdown",
   "metadata": {},
   "source": [
    "Für die Berechnung der Likelihood müssen wir zunächst eine Funktion `wdf` erzeugen, die wieder die WDF aus Teil a) implementiert, also den Wert von $f$ für ein gegebenes $x$ zurückgibt. Allerdings müssen die Anteile der Signal- und Untergrundereignisse $f_s$ und $f_b$ durch die Anzahl der Signal- und Untergrundereignisse $\\mu_s$ und $\\mu_b$ ersetzt werden, wobei $\\mu_s=\\mu_b=500$ (da $500 = 0.5\\cdot 1000$ Ereignisse) als Startwert verwendet wird. D.h. die Funktion `wdf` nimmt neben $x$ auch $\\mu_s$ und $\\mu_b$ als Parameter. Die anderen Parameter setzen Sie auf dieselben Werte wie vorher. Der Grund ist, dass sich $\\mu_s$ und $\\mu_b$ bei der Berechnung der Likelihood verändern, wobei die anderen Parameter gleich bleiben."
   ]
  },
  {
   "cell_type": "code",
   "execution_count": 93,
   "metadata": {},
   "outputs": [],
   "source": [
    "def wdf(x, mus=0.5*1000, mub=0.5*1000):\n",
    "    fs  = mus\n",
    "    fb  = mub\n",
    "    mu  = 5.0\n",
    "    sig = 0.5\n",
    "    tau = 10.0\n",
    "    return fs/(fs+fb) * 1/np.sqrt(2*np.pi*sig**2) * np.exp(-(x-mu)**2/(2*sig**2)) + fb/(fs+fb)*1/tau*np.exp(-x/tau)\n"
   ]
  },
  {
   "cell_type": "markdown",
   "metadata": {},
   "source": [
    "Schreiben Sie nun eine Funktion `nll`, die die negative Log-Likelihood (NLL) berechnet. Die Parameter dieser Funktion sind `mus` und `mub` für jeweils $\\mu_s$ bzw. $\\mu_b$, und die Daten `data` aus Teil a). "
   ]
  },
  {
   "cell_type": "code",
   "execution_count": 50,
   "metadata": {},
   "outputs": [],
   "source": [
    "def nll(data, mus, mub):\n",
    "    result =  -(mus+mub)\n",
    "    for x in data:\n",
    "        result = result + np.log((mus + mub) * wdf(x, mus, mub))\n",
    "    return -result"
   ]
  },
  {
   "cell_type": "markdown",
   "metadata": {},
   "source": [
    "Berechnen Sie die negative Log-Likelihood für ein paar Werte von $\\mu_s$ und $\\mu_b$."
   ]
  },
  {
   "cell_type": "code",
   "execution_count": 51,
   "metadata": {},
   "outputs": [
    {
     "data": {
      "text/plain": [
       "-3354.099264796251"
      ]
     },
     "execution_count": 51,
     "metadata": {},
     "output_type": "execute_result"
    }
   ],
   "source": [
    "nll(data, 500, 500)"
   ]
  },
  {
   "cell_type": "code",
   "execution_count": 52,
   "metadata": {},
   "outputs": [
    {
     "data": {
      "text/plain": [
       "-3352.0908687842984"
      ]
     },
     "execution_count": 52,
     "metadata": {},
     "output_type": "execute_result"
    }
   ],
   "source": [
    "nll(data, 530, 490)"
   ]
  },
  {
   "cell_type": "code",
   "execution_count": 53,
   "metadata": {},
   "outputs": [
    {
     "data": {
      "text/plain": [
       "-3349.832459769886"
      ]
     },
     "execution_count": 53,
     "metadata": {},
     "output_type": "execute_result"
    }
   ],
   "source": [
    "nll(data, 510, 450)"
   ]
  },
  {
   "cell_type": "markdown",
   "metadata": {},
   "source": [
    "<font face=\"Times New Roman\" size=4>\n",
    "c) Grafische Darstellung (3P)\n",
    "</font>"
   ]
  },
  {
   "cell_type": "markdown",
   "metadata": {},
   "source": [
    "Wir müssen das Minimum der NLL in Abhängigkeit der Parameter $\\mu_s$ und $\\mu_b$ finden. Dabei bietet es sich an, zuerst mal die Werte der Likelihood in einem 2D Diagramm darzustellen. Berechnen Sie also die Werte der NLL für $450\\leq \\mu_{s,b} \\leq 550$ in Schritten von 2 und tragen Sie diese in ein 2D Histogramm mit 50 Bins je Achse ein (c.f. Übungsblatt 3 Aufgabe 4). Die Werte der NLL je Bin können sie als Gewicht via dem Parameter `weights` an die Histogramm Funktion übergeben um die Likelihood so als Farbwert (verwenden Sie die Farbpalette `jet` wie in Übungsblatt 3) darzustellen. Sie sollten in der Lage sein, das Minimum visuell klar identifizieren zu können."
   ]
  },
  {
   "cell_type": "code",
   "execution_count": 54,
   "metadata": {},
   "outputs": [],
   "source": [
    "coord2d = []\n",
    "data2d  = []\n",
    "for mus in range(450, 550 ,2):\n",
    "    for mub in range(450, 550, 2):\n",
    "        coord2d.append((mus, mub))\n",
    "        data2d .append(nll(data, mus, mub))"
   ]
  },
  {
   "cell_type": "code",
   "execution_count": 55,
   "metadata": {},
   "outputs": [
    {
     "data": {
      "image/png": "[encoded data removed]",
      "text/plain": [
       "<Figure size 432x288 with 2 Axes>"
      ]
     },
     "metadata": {
      "needs_background": "light"
     },
     "output_type": "display_data"
    }
   ],
   "source": [
    "bins = listOfBins(450, 550, 50)\n",
    "plt.hist2d([x[0] for x in coord2d], [x[1] for x in coord2d], weights=data2d, bins=(bins, bins), cmap=\"jet\")\n",
    "plt.xlabel(\"$\\mu_s$\")\n",
    "plt.ylabel(\"$\\mu_b$\")\n",
    "plt.colorbar()\n",
    "plt.xlim(450, 550)\n",
    "plt.ylim(450, 550)\n",
    "plt.show()"
   ]
  },
  {
   "cell_type": "markdown",
   "metadata": {},
   "source": [
    "<font face=\"Times New Roman\" size=4>\n",
    "d) Bestimmung des Minimums (4P)\n",
    "</font>"
   ]
  },
  {
   "cell_type": "markdown",
   "metadata": {},
   "source": [
    "Bestimmen Sie nun jene Konfiguration von $\\mu_s$ und $\\mu_b$, die die NLL minimiert, indem Sie wieder mit dem Modul `scipy.optimize` einen Fit durchführen so wie in Übungsblatt 8. Die Musterloesung für Blatt 8 wurde in Ilias hochgeladen. "
   ]
  },
  {
   "cell_type": "code",
   "execution_count": 97,
   "metadata": {},
   "outputs": [],
   "source": [
    "def negLogLik(args, func,  data):\n",
    "    #print(-np.sum(np.log(func(data, *args))),\"  \",args[0],\"  \",args[1])\n",
    "    return -np.sum(np.log((args[0]+args[1])*func(data, *args))) + args[0] + args[1]"
   ]
  },
  {
   "cell_type": "code",
   "execution_count": 98,
   "metadata": {},
   "outputs": [],
   "source": [
    "result = opt.minimize(negLogLik,          # die zu minimierende Funktion\n",
    "                      args = (wdf, data), # Funktion und Daten\n",
    "                      x0   = (500, 500) , # Startwert für mus, mub\n",
    "                     )"
   ]
  },
  {
   "cell_type": "code",
   "execution_count": 99,
   "metadata": {},
   "outputs": [
    {
     "data": {
      "text/plain": [
       "      fun: -3354.7530121630944\n",
       " hess_inv: array([[ 335.37009666, -334.71916666],\n",
       "       [-334.71916666,  336.06764209]])\n",
       "      jac: array([0., 0.])\n",
       "  message: 'Optimization terminated successfully.'\n",
       "     nfev: 60\n",
       "      nit: 5\n",
       "     njev: 15\n",
       "   status: 0\n",
       "  success: True\n",
       "        x: array([479.05822442, 520.93877537])"
      ]
     },
     "execution_count": 99,
     "metadata": {},
     "output_type": "execute_result"
    }
   ],
   "source": [
    "result"
   ]
  },
  {
   "cell_type": "code",
   "execution_count": 100,
   "metadata": {},
   "outputs": [
    {
     "data": {
      "text/plain": [
       "array([479.05822442, 520.93877537])"
      ]
     },
     "execution_count": 100,
     "metadata": {},
     "output_type": "execute_result"
    }
   ],
   "source": [
    "result.x"
   ]
  },
  {
   "cell_type": "markdown",
   "metadata": {},
   "source": [
    "<font face=\"Times New Roman\" size=4>\n",
    "e) Bestimmung der Unsicherheiten mittels der Profil-Likelihood (5P)\n",
    "</font>"
   ]
  },
  {
   "cell_type": "markdown",
   "metadata": {},
   "source": [
    "Um die Unsicherheiten zu bestimmen, können wir zum Beispiel wie in der Vorlesung 13 gezeigt, die Profil-Likelihood verwenden. Zur Bestimmung der Unsicherheit von $\\mu_s$ behandeln wir also $\\mu_b$ als Störparameter. Wir spielen das zunächst für einen einzelnen Wert $\\mu_s$ durch. Nehmen wir an, dass $\\mu_s = 450$. Setzen wir den Wert in die oben definierte WDF ein, so hängt diese nur noch vom Parameter $\\mu_b$ ab. Wir können jetzt die negative LLH für diese WDF minimieren, um $\\hat{\\hat{\\mu}}_b$ zu bestimmen. \n",
    "\n",
    "Führen Sie diesen Schritt jetzt durch, und lassen Sie sich den negativen LLH-Wert fuer diese Minimierung mit `result.fun` ausgeben.\n",
    "\n",
    "Hinweis: Setzen Sie einfach die Grenzen fuer $\\mu_s$ einfach auf einen festen Wert in der `minimize` Funktion. Das geht mittels der Einstellung: `bounds = ((450, 450), (None, None))`."
   ]
  },
  {
   "cell_type": "code",
   "execution_count": 112,
   "metadata": {},
   "outputs": [],
   "source": [
    "result = opt.minimize(negLogLik,          # die zu minimierende Funktion\n",
    "                      args = (wdf, data), # Funktion und Daten\n",
    "                      x0   = (450, 500) , # Startwert für mus, mub\n",
    "                      bounds = ((450, 450), (None, None))\n",
    "                     )"
   ]
  },
  {
   "cell_type": "code",
   "execution_count": 113,
   "metadata": {},
   "outputs": [
    {
     "name": "stdout",
     "output_type": "stream",
     "text": [
      "-3353.9798480201944\n"
     ]
    }
   ],
   "source": [
    "print(result.fun)"
   ]
  },
  {
   "cell_type": "markdown",
   "metadata": {},
   "source": [
    "Führen Sie diese Methode jetzt für 10'000 Werte von $\\mu_s$ zwischen 450 und 550 durch, und speichern Sie die LLH-Werte welche die `minimize` Funktion Ihnen zurückgibt in einem array namens `nLLH_Profil` ab. "
   ]
  },
  {
   "cell_type": "code",
   "execution_count": 114,
   "metadata": {},
   "outputs": [],
   "source": [
    "values_mus = np.linspace(450, 550, 100)\n",
    "\n",
    "nLLH_Profil = []\n",
    "\n",
    "for mu in values_mus:\n",
    "    result = opt.minimize(negLogLik,          # die zu minimierende Funktion\n",
    "                      args = (wdf, data), # Funktion und Daten\n",
    "                      x0   = (mu, 500) , # Startwert für mus, mub\n",
    "                      bounds = ((mu, mu), (None, None))\n",
    "                     )\n",
    "    nLLH_Profil.append(result.fun)"
   ]
  },
  {
   "cell_type": "markdown",
   "metadata": {},
   "source": [
    "Verwandeln Sie nun das array in ein `numpy` array, und bestimmen Sie das Minimum mittels der `min` Funktion und speichern Sie diesen Wert in der Variablen `Minimum`."
   ]
  },
  {
   "cell_type": "code",
   "execution_count": 115,
   "metadata": {},
   "outputs": [],
   "source": [
    "new_array = np.array(nLLH_Profil)\n",
    "Minimum = min(new_array)\n"
   ]
  },
  {
   "cell_type": "markdown",
   "metadata": {},
   "source": [
    "Verschieben Sie nun alle Werte in `nLLH_Profil` um den Wert `Minimum`, so dass Sie ein Array für $\\Delta ln L$ erhalten. "
   ]
  },
  {
   "cell_type": "code",
   "execution_count": 116,
   "metadata": {},
   "outputs": [],
   "source": [
    "delta_lnL = new_array-Minimum"
   ]
  },
  {
   "cell_type": "markdown",
   "metadata": {},
   "source": [
    "Plotten Sie nun $\\Delta \\ln L$ als Funktion von $\\mu_s$. Zoomen Sie mit `xlim` und `ylim` näher an das Minimum heran. Zeichnen Sie eine horizontale Linie mit `axhline` bei $\\Delta \\ln L$ = 0.5 ein. Der Schnittpunkt dieser horizontalen Linie mit der Parabel gibt Ihnen die statistische Unsicherheit auf $\\hat{\\mu}_s$."
   ]
  },
  {
   "cell_type": "code",
   "execution_count": 117,
   "metadata": {},
   "outputs": [
    {
     "data": {
      "image/png": "[encoded data removed]",
      "text/plain": [
       "<Figure size 468x360 with 1 Axes>"
      ]
     },
     "metadata": {
      "needs_background": "light"
     },
     "output_type": "display_data"
    }
   ],
   "source": [
    "fig = plt.figure(figsize=(6.5, 5))\n",
    "ax = fig.add_subplot()\n",
    "\n",
    "ax.plot(values_mus, delta_lnL, label='$\\mathcal{L}(\\mu_s, \\hat{\\hat{\\mu}}_b(\\mu_s))$', color='teal')\n",
    "plt.axhline(y=0.5, xmin=0.0, xmax=0.99, c='red', ls='--')\n",
    "ax.legend(fontsize=15)\n",
    "ax.set_xlim([450.0, 510.0])\n",
    "ax.set_ylim([0.0, 0.7])\n",
    "plt.xlabel(\"$\\\\mu_s$\", fontsize=15)\n",
    "plt.ylabel(\"$\\Delta ln L$\", fontsize=15)\n",
    "plt.savefig(\"VL12_SummeGauss_Pseudodaten_LLH_condit_nu1.png\")\n",
    "plt.show()"
   ]
  },
  {
   "cell_type": "code",
   "execution_count": null,
   "metadata": {},
   "outputs": [],
   "source": []
  }
 ],
 "metadata": {
  "kernelspec": {
   "display_name": "Python 3 (ipykernel)",
   "language": "python",
   "name": "python3"
  },
  "language_info": {
   "codemirror_mode": {
    "name": "ipython",
    "version": 3
   },
   "file_extension": ".py",
   "mimetype": "text/x-python",
   "name": "python",
   "nbconvert_exporter": "python",
   "pygments_lexer": "ipython3",
   "version": "3.10.8"
  }
 },
 "nbformat": 4,
 "nbformat_minor": 4
}
